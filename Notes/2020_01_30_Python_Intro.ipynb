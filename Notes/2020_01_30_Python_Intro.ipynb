{
 "cells": [
  {
   "cell_type": "markdown",
   "metadata": {},
   "source": [
    "### Notes Jan 30 2020"
   ]
  },
  {
   "cell_type": "markdown",
   "metadata": {},
   "source": [
    "numbers in python"
   ]
  },
  {
   "cell_type": "code",
   "execution_count": 1,
   "metadata": {},
   "outputs": [
    {
     "data": {
      "text/plain": [
       "6"
      ]
     },
     "execution_count": 1,
     "metadata": {},
     "output_type": "execute_result"
    }
   ],
   "source": [
    "2+4"
   ]
  },
  {
   "cell_type": "code",
   "execution_count": 2,
   "metadata": {},
   "outputs": [
    {
     "data": {
      "text/plain": [
       "363"
      ]
     },
     "execution_count": 2,
     "metadata": {},
     "output_type": "execute_result"
    }
   ],
   "source": [
    "33*11"
   ]
  },
  {
   "cell_type": "code",
   "execution_count": 3,
   "metadata": {},
   "outputs": [
    {
     "data": {
      "text/plain": [
       "0.3333333333333333"
      ]
     },
     "execution_count": 3,
     "metadata": {},
     "output_type": "execute_result"
    }
   ],
   "source": [
    "1/3"
   ]
  },
  {
   "cell_type": "code",
   "execution_count": 23,
   "metadata": {},
   "outputs": [
    {
     "data": {
      "text/plain": [
       "0"
      ]
     },
     "execution_count": 23,
     "metadata": {},
     "output_type": "execute_result"
    }
   ],
   "source": [
    "1//3"
   ]
  },
  {
   "cell_type": "code",
   "execution_count": 24,
   "metadata": {},
   "outputs": [
    {
     "name": "stdout",
     "output_type": "stream",
     "text": [
      "        0.33333333333333331483\n"
     ]
    }
   ],
   "source": [
    "print(\"%30.20f\" % (1/3))"
   ]
  },
  {
   "cell_type": "markdown",
   "metadata": {},
   "source": [
    "lists"
   ]
  },
  {
   "cell_type": "code",
   "execution_count": 50,
   "metadata": {},
   "outputs": [],
   "source": [
    "a = [4,5,6]"
   ]
  },
  {
   "cell_type": "code",
   "execution_count": 52,
   "metadata": {},
   "outputs": [
    {
     "data": {
      "text/plain": [
       "[4, 5, 6, 4, 5, 6]"
      ]
     },
     "execution_count": 52,
     "metadata": {},
     "output_type": "execute_result"
    }
   ],
   "source": [
    "2 * a"
   ]
  },
  {
   "cell_type": "markdown",
   "metadata": {},
   "source": [
    "numpy arrays"
   ]
  },
  {
   "cell_type": "code",
   "execution_count": 53,
   "metadata": {},
   "outputs": [
    {
     "data": {
      "text/plain": [
       "array([4, 5, 6])"
      ]
     },
     "execution_count": 53,
     "metadata": {},
     "output_type": "execute_result"
    }
   ],
   "source": [
    "import numpy as np\n",
    "a = np.array([4,5,6])\n",
    "a"
   ]
  },
  {
   "cell_type": "code",
   "execution_count": 54,
   "metadata": {},
   "outputs": [
    {
     "name": "stdout",
     "output_type": "stream",
     "text": [
      "[ 8 10 12]\n",
      "[16 25 36]\n"
     ]
    }
   ],
   "source": [
    "print(a*2)\n",
    "print(a**2)"
   ]
  },
  {
   "cell_type": "code",
   "execution_count": 30,
   "metadata": {},
   "outputs": [
    {
     "data": {
      "text/plain": [
       "array([16, 25, 36])"
      ]
     },
     "execution_count": 30,
     "metadata": {},
     "output_type": "execute_result"
    }
   ],
   "source": [
    "a**2"
   ]
  },
  {
   "cell_type": "code",
   "execution_count": 31,
   "metadata": {},
   "outputs": [
    {
     "name": "stdout",
     "output_type": "stream",
     "text": [
      "[4. 5. 6.]\n"
     ]
    }
   ],
   "source": [
    "print(a.astype('float32'))"
   ]
  },
  {
   "cell_type": "code",
   "execution_count": 47,
   "metadata": {},
   "outputs": [],
   "source": [
    "a = np.zeros(1000)\n",
    "a = np.ones(1000000000).astype('float32')"
   ]
  },
  {
   "cell_type": "code",
   "execution_count": 48,
   "metadata": {},
   "outputs": [
    {
     "data": {
      "text/plain": [
       "1000000000.0"
      ]
     },
     "execution_count": 48,
     "metadata": {},
     "output_type": "execute_result"
    }
   ],
   "source": [
    "np.sum(a)"
   ]
  },
  {
   "cell_type": "code",
   "execution_count": 57,
   "metadata": {},
   "outputs": [
    {
     "data": {
      "text/plain": [
       "array([ 2,  6, 10, 14, 18, 22, 26, 30, 34, 38, 42, 46, 50, 54, 58, 62, 66,\n",
       "       70, 74, 78, 82, 86, 90, 94, 98])"
      ]
     },
     "execution_count": 57,
     "metadata": {},
     "output_type": "execute_result"
    }
   ],
   "source": [
    "a = np.arange(2,100,4)\n",
    "a"
   ]
  },
  {
   "cell_type": "markdown",
   "metadata": {},
   "source": [
    "2D arrays"
   ]
  },
  {
   "cell_type": "code",
   "execution_count": 59,
   "metadata": {},
   "outputs": [
    {
     "data": {
      "text/plain": [
       "array([[1., 1., 1., 1.],\n",
       "       [1., 1., 1., 1.],\n",
       "       [1., 1., 1., 1.]])"
      ]
     },
     "execution_count": 59,
     "metadata": {},
     "output_type": "execute_result"
    }
   ],
   "source": [
    "a = np.ones([3,4])\n",
    "a"
   ]
  },
  {
   "cell_type": "markdown",
   "metadata": {},
   "source": [
    "dot products"
   ]
  },
  {
   "cell_type": "code",
   "execution_count": null,
   "metadata": {},
   "outputs": [],
   "source": [
    "a = np.array([[3,5,1]])\n",
    "b = np.array([7,1,2])"
   ]
  },
  {
   "cell_type": "code",
   "execution_count": 65,
   "metadata": {},
   "outputs": [
    {
     "data": {
      "text/plain": [
       "array([[21,  5,  2]])"
      ]
     },
     "execution_count": 65,
     "metadata": {},
     "output_type": "execute_result"
    }
   ],
   "source": [
    "a * b"
   ]
  },
  {
   "cell_type": "code",
   "execution_count": 64,
   "metadata": {},
   "outputs": [
    {
     "data": {
      "text/plain": [
       "array([28])"
      ]
     },
     "execution_count": 64,
     "metadata": {},
     "output_type": "execute_result"
    }
   ],
   "source": [
    "np.dot(a,b)"
   ]
  },
  {
   "cell_type": "markdown",
   "metadata": {},
   "source": [
    "strings"
   ]
  },
  {
   "cell_type": "code",
   "execution_count": 66,
   "metadata": {},
   "outputs": [],
   "source": [
    "a = \"Hi, there\""
   ]
  },
  {
   "cell_type": "code",
   "execution_count": 68,
   "metadata": {
    "scrolled": true
   },
   "outputs": [
    {
     "data": {
      "text/plain": [
       "'Hi, thereHi, thereHi, thereHi, thereHi, thereHi, thereHi, thereHi, thereHi, thereHi, thereHi, thereHi, thereHi, thereHi, thereHi, thereHi, thereHi, thereHi, thereHi, thereHi, there'"
      ]
     },
     "execution_count": 68,
     "metadata": {},
     "output_type": "execute_result"
    }
   ],
   "source": [
    "a*20"
   ]
  },
  {
   "cell_type": "markdown",
   "metadata": {},
   "source": [
    "random number generator"
   ]
  },
  {
   "cell_type": "code",
   "execution_count": 71,
   "metadata": {},
   "outputs": [
    {
     "data": {
      "text/plain": [
       "array([0.45488219, 0.64490093, 0.83487607])"
      ]
     },
     "execution_count": 71,
     "metadata": {},
     "output_type": "execute_result"
    }
   ],
   "source": [
    "np.random.random(3)"
   ]
  },
  {
   "cell_type": "code",
   "execution_count": 70,
   "metadata": {},
   "outputs": [
    {
     "data": {
      "text/plain": [
       "array([[0.80242907, 0.1657144 , 0.38970103, 0.41768684],\n",
       "       [0.28762644, 0.51359303, 0.12302948, 0.7293747 ],\n",
       "       [0.72314045, 0.5658035 , 0.44269486, 0.74980769]])"
      ]
     },
     "execution_count": 70,
     "metadata": {},
     "output_type": "execute_result"
    }
   ],
   "source": [
    "np.random.random([3,4])"
   ]
  },
  {
   "cell_type": "code",
   "execution_count": 73,
   "metadata": {},
   "outputs": [
    {
     "data": {
      "text/plain": [
       "array([-0.27127603,  0.79787413, -0.12354756])"
      ]
     },
     "execution_count": 73,
     "metadata": {},
     "output_type": "execute_result"
    }
   ],
   "source": [
    "np.random.normal(0,1,3)"
   ]
  },
  {
   "cell_type": "code",
   "execution_count": 72,
   "metadata": {},
   "outputs": [
    {
     "data": {
      "text/plain": [
       "array([[ 0.87576194,  0.00881092,  2.73175898],\n",
       "       [-0.30423232,  2.53988751, -0.56241929],\n",
       "       [ 0.52530027,  0.21023829,  0.35666342],\n",
       "       [-0.70132452, -0.94826081, -0.3152968 ]])"
      ]
     },
     "execution_count": 72,
     "metadata": {},
     "output_type": "execute_result"
    }
   ],
   "source": [
    "np.random.normal(0,1,[4,3])"
   ]
  },
  {
   "cell_type": "markdown",
   "metadata": {},
   "source": [
    "###### lists vs. numpy arrays vs. tuples\n",
    "\n",
    "numpy arrays - all the same type\n",
    "lists - flexible types. the different things in your list can vary and be modified."
   ]
  },
  {
   "cell_type": "code",
   "execution_count": 74,
   "metadata": {},
   "outputs": [
    {
     "name": "stdout",
     "output_type": "stream",
     "text": [
      "[3, 3.14, 'hello']\n"
     ]
    }
   ],
   "source": [
    "foo = [3, 3.14, \"hello\"]\n",
    "print(foo)"
   ]
  },
  {
   "cell_type": "code",
   "execution_count": 75,
   "metadata": {},
   "outputs": [],
   "source": [
    "foo[1] = 78.1"
   ]
  },
  {
   "cell_type": "code",
   "execution_count": 76,
   "metadata": {},
   "outputs": [
    {
     "data": {
      "text/plain": [
       "[3, 78.1, 'hello']"
      ]
     },
     "execution_count": 76,
     "metadata": {},
     "output_type": "execute_result"
    }
   ],
   "source": [
    "foo"
   ]
  },
  {
   "cell_type": "markdown",
   "metadata": {},
   "source": [
    "tuple - elements can't change"
   ]
  },
  {
   "cell_type": "code",
   "execution_count": 79,
   "metadata": {},
   "outputs": [],
   "source": [
    "foo = (3,4,99.9,\"Doug\")"
   ]
  },
  {
   "cell_type": "code",
   "execution_count": 80,
   "metadata": {},
   "outputs": [
    {
     "ename": "TypeError",
     "evalue": "'tuple' object does not support item assignment",
     "output_type": "error",
     "traceback": [
      "\u001b[0;31m---------------------------------------------------------------------------\u001b[0m",
      "\u001b[0;31mTypeError\u001b[0m                                 Traceback (most recent call last)",
      "\u001b[0;32m<ipython-input-80-a32654e87a0b>\u001b[0m in \u001b[0;36m<module>\u001b[0;34m\u001b[0m\n\u001b[0;32m----> 1\u001b[0;31m \u001b[0mfoo\u001b[0m\u001b[0;34m[\u001b[0m\u001b[0;36m1\u001b[0m\u001b[0;34m]\u001b[0m \u001b[0;34m=\u001b[0m \u001b[0;36m78.1\u001b[0m\u001b[0;34m\u001b[0m\u001b[0;34m\u001b[0m\u001b[0m\n\u001b[0m",
      "\u001b[0;31mTypeError\u001b[0m: 'tuple' object does not support item assignment"
     ]
    }
   ],
   "source": [
    "foo[1] = 78.1"
   ]
  },
  {
   "cell_type": "markdown",
   "metadata": {},
   "source": [
    "indexing\n",
    "\n",
    "python starts counting from 0, not 1."
   ]
  },
  {
   "cell_type": "code",
   "execution_count": 84,
   "metadata": {},
   "outputs": [
    {
     "data": {
      "text/plain": [
       "array([[0.16850958, 0.22318792, 0.9314432 , 0.96169172, 0.41213674,\n",
       "        0.84929121],\n",
       "       [0.40215024, 0.35540739, 0.91744595, 0.79628375, 0.84126555,\n",
       "        0.5254269 ],\n",
       "       [0.4758101 , 0.8053162 , 0.40070403, 0.40015085, 0.94834887,\n",
       "        0.36348195],\n",
       "       [0.54752454, 0.77982331, 0.02413881, 0.96570467, 0.88218531,\n",
       "        0.49537277],\n",
       "       [0.67556403, 0.61712978, 0.40274754, 0.6844818 , 0.97592571,\n",
       "        0.3526802 ],\n",
       "       [0.93495801, 0.00986505, 0.21842749, 0.41161557, 0.52237192,\n",
       "        0.53890101]])"
      ]
     },
     "execution_count": 84,
     "metadata": {},
     "output_type": "execute_result"
    }
   ],
   "source": [
    "a = np.random.random([6,6])\n",
    "a"
   ]
  },
  {
   "cell_type": "code",
   "execution_count": 85,
   "metadata": {},
   "outputs": [
    {
     "data": {
      "text/plain": [
       "0.4001508521176085"
      ]
     },
     "execution_count": 85,
     "metadata": {},
     "output_type": "execute_result"
    }
   ],
   "source": [
    "a[2,3]"
   ]
  },
  {
   "cell_type": "code",
   "execution_count": 86,
   "metadata": {},
   "outputs": [
    {
     "data": {
      "text/plain": [
       "array([0.9314432 , 0.91744595, 0.40070403, 0.02413881, 0.40274754,\n",
       "       0.21842749])"
      ]
     },
     "execution_count": 86,
     "metadata": {},
     "output_type": "execute_result"
    }
   ],
   "source": [
    "a[:,2]"
   ]
  },
  {
   "cell_type": "markdown",
   "metadata": {},
   "source": [
    "###### Some Shortcuts\n",
    "\n",
    "CONTROL a - beginning of line\n",
    "\n",
    "CONTROL e - end of line\n",
    "\n",
    "CONTROL k - gets rid of everything to the left of your cursor\n",
    "\n",
    "\n",
    "outside cell:\n",
    "\n",
    "\n",
    "d d = delete cell\n",
    "\n",
    "a = add cell above\n",
    "\n"
   ]
  },
  {
   "cell_type": "markdown",
   "metadata": {},
   "source": [
    "###### Memory behind the scences\n",
    "\n",
    "CPU            ->      cache ->      main memory\n",
    "\n",
    "hundrends      ->      MB    ->      GB\n",
    "\n",
    "\n",
    "-----\n",
    "\n",
    "10 cycles : CPU -> cache\n",
    "\n",
    "100 cycles : cache -> main memory"
   ]
  },
  {
   "cell_type": "code",
   "execution_count": 99,
   "metadata": {},
   "outputs": [
    {
     "data": {
      "text/plain": [
       "array([[0.9314432 , 0.96169172],\n",
       "       [0.91744595, 0.79628375],\n",
       "       [0.40070403, 0.40015085],\n",
       "       [0.02413881, 0.96570467]])"
      ]
     },
     "execution_count": 99,
     "metadata": {},
     "output_type": "execute_result"
    }
   ],
   "source": [
    "a[0:4,2:4]"
   ]
  },
  {
   "cell_type": "code",
   "execution_count": 101,
   "metadata": {},
   "outputs": [
    {
     "data": {
      "text/plain": [
       "array([0.16850958, 0.35540739, 0.97592571, 0.53890101])"
      ]
     },
     "execution_count": 101,
     "metadata": {},
     "output_type": "execute_result"
    }
   ],
   "source": [
    "ind = [0,1,4,5]\n",
    "\n",
    "a[ind,ind]"
   ]
  },
  {
   "cell_type": "code",
   "execution_count": 102,
   "metadata": {},
   "outputs": [
    {
     "data": {
      "text/plain": [
       "0.8821853068917437"
      ]
     },
     "execution_count": 102,
     "metadata": {},
     "output_type": "execute_result"
    }
   ],
   "source": [
    "a[3,4]"
   ]
  },
  {
   "cell_type": "markdown",
   "metadata": {},
   "source": [
    "###### format statements\n",
    "\n",
    "\"%10.7f\"\n",
    "\n",
    "f = floating point\n",
    "\n",
    "d = decimal integer\n",
    "\n",
    "10 = allocate 10 characters\n",
    "\n",
    "7 = of which 7 are after the decimal"
   ]
  },
  {
   "cell_type": "code",
   "execution_count": 104,
   "metadata": {},
   "outputs": [
    {
     "name": "stdout",
     "output_type": "stream",
     "text": [
      "965.7046656\n"
     ]
    }
   ],
   "source": [
    "print(\"%10.7f\" % (1000 * a[3,3]))"
   ]
  },
  {
   "cell_type": "code",
   "execution_count": 106,
   "metadata": {},
   "outputs": [
    {
     "data": {
      "text/plain": [
       "4.0"
      ]
     },
     "execution_count": 106,
     "metadata": {},
     "output_type": "execute_result"
    }
   ],
   "source": [
    "np.round(4.5)"
   ]
  },
  {
   "cell_type": "code",
   "execution_count": 116,
   "metadata": {},
   "outputs": [
    {
     "data": {
      "text/plain": [
       "5.0"
      ]
     },
     "execution_count": 116,
     "metadata": {},
     "output_type": "execute_result"
    }
   ],
   "source": [
    "np.round(4.500000000001)"
   ]
  },
  {
   "cell_type": "code",
   "execution_count": 139,
   "metadata": {},
   "outputs": [],
   "source": [
    "byt = np.round(254).astype(\"uint8\")"
   ]
  },
  {
   "cell_type": "code",
   "execution_count": 141,
   "metadata": {},
   "outputs": [
    {
     "name": "stdout",
     "output_type": "stream",
     "text": [
      "0\n"
     ]
    },
    {
     "name": "stderr",
     "output_type": "stream",
     "text": [
      "//anaconda/envs/py34/lib/python3.6/site-packages/ipykernel/__main__.py:1: RuntimeWarning: overflow encountered in ubyte_scalars\n",
      "  if __name__ == '__main__':\n"
     ]
    }
   ],
   "source": [
    "byt += np.round(1).astype(\"uint8\")\n",
    "print(byt)"
   ]
  },
  {
   "cell_type": "code",
   "execution_count": null,
   "metadata": {},
   "outputs": [],
   "source": [
    "byt += 1\n",
    "print(byt)"
   ]
  },
  {
   "cell_type": "markdown",
   "metadata": {},
   "source": [
    "###### recasting\n",
    "\n",
    "1 is of type integer.\n",
    "\n",
    "np.round(1).astype(\"uint8\") is of type unsigned integer 8\n",
    "\n",
    "So adding this operation recasts byt from unspecified integer 8 (aka byte) to an integer."
   ]
  },
  {
   "cell_type": "markdown",
   "metadata": {},
   "source": [
    "Below is the case when it's a signed integer:"
   ]
  },
  {
   "cell_type": "code",
   "execution_count": 151,
   "metadata": {},
   "outputs": [],
   "source": [
    "byt = np.round(126).astype(\"int8\")"
   ]
  },
  {
   "cell_type": "code",
   "execution_count": 153,
   "metadata": {},
   "outputs": [
    {
     "name": "stdout",
     "output_type": "stream",
     "text": [
      "-128\n"
     ]
    },
    {
     "name": "stderr",
     "output_type": "stream",
     "text": [
      "//anaconda/envs/py34/lib/python3.6/site-packages/ipykernel/__main__.py:1: RuntimeWarning: overflow encountered in byte_scalars\n",
      "  if __name__ == '__main__':\n"
     ]
    }
   ],
   "source": [
    "byt += np.round(1).astype(\"int8\")\n",
    "print(byt)"
   ]
  },
  {
   "cell_type": "markdown",
   "metadata": {},
   "source": [
    "###### plotting with matplotlib"
   ]
  },
  {
   "cell_type": "code",
   "execution_count": 154,
   "metadata": {},
   "outputs": [],
   "source": [
    "from matplotlib import pyplot as plt"
   ]
  },
  {
   "cell_type": "code",
   "execution_count": 159,
   "metadata": {},
   "outputs": [
    {
     "data": {
      "text/plain": [
       "array([[0.69890737, 0.58685698, 0.25738736, 0.12894068, 0.94671488,\n",
       "        0.46871404, 0.93529729, 0.98673465, 0.70834506, 0.27587513],\n",
       "       [0.66519995, 0.53914835, 0.52121304, 0.83004325, 0.67590377,\n",
       "        0.47905949, 0.72418261, 0.57358228, 0.3541357 , 0.79375709],\n",
       "       [0.02333755, 0.90046075, 0.34279064, 0.63425234, 0.68046694,\n",
       "        0.81798764, 0.19083551, 0.39365279, 0.67883965, 0.71149857],\n",
       "       [0.79171213, 0.71987389, 0.30091385, 0.64536338, 0.04254864,\n",
       "        0.77899253, 0.06696927, 0.56427994, 0.69720011, 0.40002756],\n",
       "       [0.18985661, 0.40935056, 0.69918853, 0.91391729, 0.67841571,\n",
       "        0.83418741, 0.0221353 , 0.83733946, 0.84419745, 0.79954345],\n",
       "       [0.95117361, 0.93702024, 0.54376146, 0.44408833, 0.01469958,\n",
       "        0.83092978, 0.39402479, 0.04663689, 0.38855889, 0.69986415],\n",
       "       [0.71699357, 0.39355684, 0.73841074, 0.74914069, 0.62508424,\n",
       "        0.66634707, 0.67949375, 0.56902122, 0.4926776 , 0.85263319],\n",
       "       [0.30037707, 0.41306497, 0.24758536, 0.94714553, 0.18955775,\n",
       "        0.52402013, 0.02462962, 0.32187345, 0.1585958 , 0.41874622],\n",
       "       [0.96987833, 0.28558272, 0.1442898 , 0.3405945 , 0.81066894,\n",
       "        0.210083  , 0.59231241, 0.43076643, 0.87613111, 0.53057223],\n",
       "       [0.80832029, 0.07738519, 0.21429008, 0.15095898, 0.40833946,\n",
       "        0.28140403, 0.51336142, 0.72716377, 0.26456116, 0.30516177]])"
      ]
     },
     "execution_count": 159,
     "metadata": {},
     "output_type": "execute_result"
    }
   ],
   "source": [
    "a = np.random.random([10,10])\n",
    "a"
   ]
  },
  {
   "cell_type": "markdown",
   "metadata": {},
   "source": [
    "imshow"
   ]
  },
  {
   "cell_type": "code",
   "execution_count": 179,
   "metadata": {},
   "outputs": [
    {
     "data": {
      "text/plain": [
       "<matplotlib.colorbar.Colorbar at 0xb2766e6a0>"
      ]
     },
     "execution_count": 179,
     "metadata": {},
     "output_type": "execute_result"
    },
    {
     "data": {
      "image/png": "[encoded data removed]",
      "text/plain": [
       "<Figure size 432x288 with 2 Axes>"
      ]
     },
     "metadata": {
      "needs_background": "light"
     },
     "output_type": "display_data"
    }
   ],
   "source": [
    "plt.imshow(a**2, cmap='viridis')\n",
    "\n",
    "plt.colorbar()"
   ]
  },
  {
   "cell_type": "markdown",
   "metadata": {},
   "source": [
    "plot and scatter"
   ]
  },
  {
   "cell_type": "code",
   "execution_count": 232,
   "metadata": {},
   "outputs": [],
   "source": [
    "normaldist = np.random.normal(0,1,10000)\n",
    "x = np.random.normal(0,1,10000)\n",
    "y = np.random.normal(0,1,10000)"
   ]
  },
  {
   "cell_type": "code",
   "execution_count": 239,
   "metadata": {},
   "outputs": [
    {
     "data": {
      "text/plain": [
       "[<matplotlib.lines.Line2D at 0xb2c1cb7f0>]"
      ]
     },
     "execution_count": 239,
     "metadata": {},
     "output_type": "execute_result"
    },
    {
     "data": {
      "image/png": "[encoded data removed]",
      "text/plain": [
       "<Figure size 432x288 with 1 Axes>"
      ]
     },
     "metadata": {
      "needs_background": "light"
     },
     "output_type": "display_data"
    }
   ],
   "source": [
    "plt.plot(normaldist, linewidth=0.02)"
   ]
  },
  {
   "cell_type": "code",
   "execution_count": 237,
   "metadata": {},
   "outputs": [
    {
     "data": {
      "image/png": "[encoded data removed]",
      "text/plain": [
       "<Figure size 432x288 with 1 Axes>"
      ]
     },
     "metadata": {
      "needs_background": "light"
     },
     "output_type": "display_data"
    }
   ],
   "source": [
    "plt.scatter(x, y, s=2, alpha=0.1)\n",
    "plt.show()"
   ]
  },
  {
   "cell_type": "code",
   "execution_count": 238,
   "metadata": {},
   "outputs": [
    {
     "data": {
      "text/plain": [
       "[<matplotlib.lines.Line2D at 0xb2c055f98>]"
      ]
     },
     "execution_count": 238,
     "metadata": {},
     "output_type": "execute_result"
    },
    {
     "data": {
      "image/png": "[encoded data removed]",
      "text/plain": [
       "<Figure size 432x288 with 1 Axes>"
      ]
     },
     "metadata": {
      "needs_background": "light"
     },
     "output_type": "display_data"
    }
   ],
   "source": [
    "plt.plot(x, y)"
   ]
  },
  {
   "cell_type": "markdown",
   "metadata": {},
   "source": [
    "histogram"
   ]
  },
  {
   "cell_type": "code",
   "execution_count": 215,
   "metadata": {},
   "outputs": [
    {
     "name": "stdout",
     "output_type": "stream",
     "text": [
      "0.019684258132423815\n",
      "0.018618491294253046\n"
     ]
    },
    {
     "data": {
      "image/png": "[encoded data removed]",
      "text/plain": [
       "<Figure size 720x360 with 1 Axes>"
      ]
     },
     "metadata": {
      "needs_background": "light"
     },
     "output_type": "display_data"
    }
   ],
   "source": [
    "plt.figure(figsize=(10,5))\n",
    "\n",
    "# plt.hist(normaldist, bins=8, range=[-5,5])\n",
    "plt.hist(normaldist, bins=100, range=[-5,5])\n",
    "\n",
    "print(np.mean(normaldist))\n",
    "print(np.median(normaldist))"
   ]
  },
  {
   "cell_type": "markdown",
   "metadata": {},
   "source": [
    "questions about keywords or arguments?"
   ]
  },
  {
   "cell_type": "code",
   "execution_count": 216,
   "metadata": {},
   "outputs": [],
   "source": [
    "plt.hist?"
   ]
  },
  {
   "cell_type": "code",
   "execution_count": 219,
   "metadata": {},
   "outputs": [
    {
     "data": {
      "text/plain": [
       "array([[-0.47641967,  0.15130741,  2.08013955, ..., -0.24644315,\n",
       "         1.71135396, -0.26787544],\n",
       "       [ 0.34954082, -0.84991137,  1.88631744, ..., -1.80294903,\n",
       "         1.0956479 ,  1.08862132],\n",
       "       [ 1.0162388 , -1.19458077,  0.37182699, ..., -0.4172297 ,\n",
       "        -0.33805282,  0.44833154],\n",
       "       ...,\n",
       "       [ 0.08756676,  0.08663145,  1.00175461, ..., -0.0631506 ,\n",
       "        -1.4307005 ,  0.87304938],\n",
       "       [ 2.0968507 , -0.73217402, -1.13545513, ..., -0.17611551,\n",
       "        -1.80189235, -0.6947603 ],\n",
       "       [-1.22947724, -0.91706835, -0.6590535 , ...,  1.12639004,\n",
       "        -0.34603122, -0.22852785]])"
      ]
     },
     "execution_count": 219,
     "metadata": {},
     "output_type": "execute_result"
    }
   ],
   "source": [
    "normaldist2 = np.random.normal(0,1,[50,50])\n",
    "normaldist2"
   ]
  },
  {
   "cell_type": "code",
   "execution_count": 220,
   "metadata": {},
   "outputs": [
    {
     "data": {
      "text/plain": [
       "<matplotlib.image.AxesImage at 0xb2949c7f0>"
      ]
     },
     "execution_count": 220,
     "metadata": {},
     "output_type": "execute_result"
    },
    {
     "data": {
      "image/png": "[encoded data removed]",
      "text/plain": [
       "<Figure size 432x288 with 1 Axes>"
      ]
     },
     "metadata": {
      "needs_background": "light"
     },
     "output_type": "display_data"
    }
   ],
   "source": [
    "plt.imshow(normaldist2)"
   ]
  },
  {
   "cell_type": "code",
   "execution_count": 224,
   "metadata": {},
   "outputs": [
    {
     "data": {
      "text/plain": [
       "array([[-0.47641967,  0.15130741,  2.08013955, ..., -0.24644315,\n",
       "         1.71135396, -0.26787544],\n",
       "       [ 0.34954082, -0.84991137,  1.88631744, ..., -1.80294903,\n",
       "         1.0956479 ,  1.08862132],\n",
       "       [ 1.0162388 , -1.19458077,  0.37182699, ..., -0.4172297 ,\n",
       "        -0.33805282,  0.44833154],\n",
       "       ...,\n",
       "       [ 0.08756676,  0.08663145,  1.00175461, ..., -0.0631506 ,\n",
       "        -1.4307005 ,  0.87304938],\n",
       "       [ 2.0968507 , -0.73217402, -1.13545513, ..., -0.17611551,\n",
       "        -1.80189235, -0.6947603 ],\n",
       "       [-1.22947724, -0.91706835, -0.6590535 , ...,  1.12639004,\n",
       "        -0.34603122, -0.22852785]])"
      ]
     },
     "execution_count": 224,
     "metadata": {},
     "output_type": "execute_result"
    }
   ],
   "source": [
    "normaldist2"
   ]
  },
  {
   "cell_type": "code",
   "execution_count": 227,
   "metadata": {},
   "outputs": [
    {
     "data": {
      "text/plain": [
       "array([[-0.47641967,  0.34954082,  1.0162388 , ...,  0.08756676,\n",
       "         2.0968507 , -1.22947724],\n",
       "       [ 0.15130741, -0.84991137, -1.19458077, ...,  0.08663145,\n",
       "        -0.73217402, -0.91706835],\n",
       "       [ 2.08013955,  1.88631744,  0.37182699, ...,  1.00175461,\n",
       "        -1.13545513, -0.6590535 ],\n",
       "       ...,\n",
       "       [-0.24644315, -1.80294903, -0.4172297 , ..., -0.0631506 ,\n",
       "        -0.17611551,  1.12639004],\n",
       "       [ 1.71135396,  1.0956479 , -0.33805282, ..., -1.4307005 ,\n",
       "        -1.80189235, -0.34603122],\n",
       "       [-0.26787544,  1.08862132,  0.44833154, ...,  0.87304938,\n",
       "        -0.6947603 , -0.22852785]])"
      ]
     },
     "execution_count": 227,
     "metadata": {},
     "output_type": "execute_result"
    }
   ],
   "source": [
    "normaldist2.T"
   ]
  },
  {
   "cell_type": "code",
   "execution_count": 230,
   "metadata": {},
   "outputs": [
    {
     "data": {
      "image/png": "[encoded data removed]",
      "text/plain": [
       "<Figure size 720x360 with 1 Axes>"
      ]
     },
     "metadata": {
      "needs_background": "light"
     },
     "output_type": "display_data"
    }
   ],
   "source": [
    "normaldist = np.random.normal(0,1,10)\n",
    "\n",
    "\n",
    "plt.figure(figsize=(10,5))\n",
    "\n",
    "for i in normaldist2.T:\n",
    "#     print(np.mean(i))\n",
    "    \n",
    "    plt.hist(i, bins=100, range=[-5,5], alpha=0.1)"
   ]
  },
  {
   "cell_type": "markdown",
   "metadata": {},
   "source": [
    "functions"
   ]
  },
  {
   "cell_type": "code",
   "execution_count": 265,
   "metadata": {},
   "outputs": [],
   "source": [
    "def squarethis(x, a=2):\n",
    "    return x**2+a\n",
    "\n",
    "def scatterplotthis(x, y):\n",
    "    plt.scatter(x,y)"
   ]
  },
  {
   "cell_type": "code",
   "execution_count": 266,
   "metadata": {},
   "outputs": [
    {
     "data": {
      "text/plain": [
       "6"
      ]
     },
     "execution_count": 266,
     "metadata": {},
     "output_type": "execute_result"
    }
   ],
   "source": [
    "squarethis(2)"
   ]
  },
  {
   "cell_type": "code",
   "execution_count": 267,
   "metadata": {},
   "outputs": [
    {
     "data": {
      "text/plain": [
       "4"
      ]
     },
     "execution_count": 267,
     "metadata": {},
     "output_type": "execute_result"
    }
   ],
   "source": [
    "squarethis(2, a=0)"
   ]
  },
  {
   "cell_type": "code",
   "execution_count": 269,
   "metadata": {},
   "outputs": [
    {
     "data": {
      "image/png": "[encoded data removed]",
      "text/plain": [
       "<Figure size 432x288 with 1 Axes>"
      ]
     },
     "metadata": {
      "needs_background": "light"
     },
     "output_type": "display_data"
    }
   ],
   "source": [
    "x = np.random.normal(0,1,10000)\n",
    "y = np.random.normal(0,1,10000)\n",
    "scatterplotthis(x,y)"
   ]
  }
 ],
 "metadata": {
  "kernelspec": {
   "display_name": "Python [conda env:py34]",
   "language": "python",
   "name": "conda-env-py34-py"
  },
  "language_info": {
   "codemirror_mode": {
    "name": "ipython",
    "version": 3
   },
   "file_extension": ".py",
   "mimetype": "text/x-python",
   "name": "python",
   "nbconvert_exporter": "python",
   "pygments_lexer": "ipython3",
   "version": "3.6.8"
  }
 },
 "nbformat": 4,
 "nbformat_minor": 2
}
