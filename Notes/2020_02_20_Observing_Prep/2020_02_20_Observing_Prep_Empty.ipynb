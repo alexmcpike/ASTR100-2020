{
 "cells": [
  {
   "cell_type": "markdown",
   "metadata": {},
   "source": [
    "# Observing Run Preparation Module\n",
    "\n",
    "**Lecturer:** Robert Quimby<br>\n",
    "**Jupyter Notebook Author:** Shubham Srivastav, Cameron Hummels & Robert Quimby\n",
    "\n",
    "This is a Jupyter notebook lesson taken from the GROWTH Summer School 2019.  For other lessons and their accompanying lectures, please see: http://growth.caltech.edu/growth-astro-school-2018-resources.html\n",
    "\n",
    "## Objective\n",
    "Demonstrate how to plan observations prior to an observing run.\n",
    "\n",
    "## Key steps\n",
    "- Select targets\n",
    "- Get visibility and airmass plots\n",
    "- Get moon separation angles\n",
    "- Calculate exposure times for targets\n",
    "\n",
    "## Required dependencies\n",
    "\n",
    "See GROWTH school webpage for detailed instructions on how to install these modules and packages.  Nominally, you should be able to install the python modules with `pip install <module>`.  The external astromatic packages are easiest installed using package managers (e.g., `rpm`, `apt-get`).\n",
    "\n",
    "### Python modules\n",
    "* python 3\n",
    "* astropy\n",
    "* numpy\n",
    "* matplotlib\n",
    "* astroplan\n",
    "* pytz\n",
    "\n",
    "### External packages\n",
    "None"
   ]
  },
  {
   "cell_type": "code",
   "execution_count": 45,
   "metadata": {},
   "outputs": [],
   "source": [
    "import numpy as np\n",
    "from astropy import units as u\n",
    "from astropy.time import Time\n",
    "from astropy.coordinates import SkyCoord\n",
    "from astropy.coordinates import EarthLocation\n",
    "import pytz\n",
    "%matplotlib inline \n",
    "from astroplan import Observer, FixedTarget\n",
    "from astropy.utils.iers import conf\n",
    "conf.auto_max_age = None\n",
    "from astroplan import download_IERS_A \n",
    "from astropy.coordinates import get_sun, get_moon, get_body\n",
    "from astroplan import moon_illumination"
   ]
  },
  {
   "cell_type": "markdown",
   "metadata": {},
   "source": [
    "### Date and Time\n",
    "- Dates and times are in UTC\n",
    "- Default time is 00:00:00 UTC (verify this)"
   ]
  },
  {
   "cell_type": "code",
   "execution_count": 46,
   "metadata": {},
   "outputs": [
    {
     "name": "stdout",
     "output_type": "stream",
     "text": [
      "2018-12-03 00:00:00.000\n"
     ]
    }
   ],
   "source": [
    "date = Time(\"2018-12-03\", format='iso')\n",
    "print(date)"
   ]
  },
  {
   "cell_type": "markdown",
   "metadata": {},
   "source": [
    "### What is the current UTC?"
   ]
  },
  {
   "cell_type": "code",
   "execution_count": 51,
   "metadata": {},
   "outputs": [
    {
     "name": "stdout",
     "output_type": "stream",
     "text": [
      "2020-02-20 21:15:38.863797\n",
      "2458900.385866479\n",
      "58899.88586647913\n",
      "2020.139032422074\n"
     ]
    }
   ],
   "source": [
    "now = Time.now()\n",
    "print(now)\n",
    "print(now.jd)\n",
    "print(now.mjd)\n",
    "print(now.decimalyear)"
   ]
  },
  {
   "cell_type": "markdown",
   "metadata": {},
   "source": [
    "### Exercise\n",
    "What time will it be (in UTC) after 1 hour 45 minutes from `now`? Complete the line below to print it out."
   ]
  },
  {
   "cell_type": "code",
   "execution_count": 58,
   "metadata": {},
   "outputs": [
    {
     "name": "stdout",
     "output_type": "stream",
     "text": [
      "2020-02-20 23:01:36.786736\n"
     ]
    }
   ],
   "source": [
    "now = Time.now()\n",
    "\n",
    "print(now + 1 * u.h + 45 * u.min)"
   ]
  },
  {
   "cell_type": "markdown",
   "metadata": {},
   "source": [
    "### Using UT1\n",
    "- To keep accurate time, the changes in earth's rotation period have to be taken into account.\n",
    "- AstroPy does this using a convention called UT1, that is tied to the rotation of earth with respect to the position of distant quasars. IERS - International Earth Rotation and Reference Systems Service keeps continuous tabs on the orientation of the earth and updates the data in the IERS bulletin.\n",
    "Update the bulletin:"
   ]
  },
  {
   "cell_type": "code",
   "execution_count": 62,
   "metadata": {},
   "outputs": [],
   "source": [
    "download_IERS_A()"
   ]
  },
  {
   "cell_type": "markdown",
   "metadata": {},
   "source": [
    "### Check to see what observatories are available in the database."
   ]
  },
  {
   "cell_type": "code",
   "execution_count": 6,
   "metadata": {},
   "outputs": [
    {
     "name": "stdout",
     "output_type": "stream",
     "text": [
      "Available observatories: \n",
      ", , , ALMA, ATST, Anglo-Australian Observatory, Apache Point, Apache Point Observatory, Atacama Large Millimeter Array, BAO, BBSO, Beijing XingLong Observatory, Black Moshannon Observatory, CHARA, Canada-France-Hawaii Telescope, Catalina Observatory, Cerro Pachon, Cerro Paranal, Cerro Tololo, Cerro Tololo Interamerican Observatory, DCT, DKIST, Discovery Channel Telescope, Dominion Astrophysical Observatory, GBT, Gemini South, Green Bank Telescope, Hale Telescope, Haleakala Observatories, Happy Jack, IAO, JCMT, James Clerk Maxwell Telescope, Jansky Very Large Array, Keck Observatory, Kitt Peak, Kitt Peak National Observatory, La Silla Observatory, Large Binocular Telescope, Las Campanas Observatory, Lick Observatory, Lowell Observatory, MWA, Manastash Ridge Observatory, McDonald Observatory, Medicina, Medicina Dish, Michigan-Dartmouth-MIT Observatory, Mount Graham International Observatory, Mt Graham, Mt. Ekar 182 cm. Telescope, Mt. Stromlo Observatory, Multiple Mirror Telescope, Murchison Widefield Array, NOV, NST, National Observatory of Venezuela, Noto, Observatorio Astronomico Nacional, San Pedro Martir, Observatorio Astronomico Nacional, Tonantzintla, Palomar, Paranal Observatory, Roque de los Muchachos, SAAO, SALT, SPO, SRT, Sac Peak, Sacramento Peak, Siding Spring Observatory, Southern African Large Telescope, Subaru, Subaru Telescope, Sunspot, Sutherland, TUG, UKIRT, United Kingdom Infrared Telescope, Vainu Bappu Observatory, Very Large Array, W. M. Keck Observatory, Whipple, Whipple Observatory, aao, alma, apo, bbso, bmo, cfht, ctio, dao, dct, dkist, ekar, example_site, flwo, gbt, gemini_north, gemini_south, gemn, gems, greenwich, haleakala, iao, irtf, jcmt, keck, kpno, lapalma, lasilla, lbt, lco, lick, lowell, mcdonald, mdm, medicina, mmt, mro, mso, mtbigelow, mwa, mwo, noto, ohp, paranal, salt, sirene, spm, spo, srt, sso, tona, tug, ukirt, vbo, vla\n"
     ]
    }
   ],
   "source": [
    "print(\"Available observatories: \\n{0}\"\n",
    "      .format(', '.join(EarthLocation.get_site_names())))"
   ]
  },
  {
   "cell_type": "markdown",
   "metadata": {},
   "source": [
    "### Setting up observatory location"
   ]
  },
  {
   "cell_type": "code",
   "execution_count": 64,
   "metadata": {},
   "outputs": [
    {
     "data": {
      "text/plain": [
       "<Observer: name='MLO',\n",
       "    location (lon, lat, el)=(-116.426938 deg, 32.842167 deg, 1859.9999999986012 m),\n",
       "    timezone=<DstTzInfo 'America/Los_Angeles' LMT-1 day, 16:07:00 STD>>"
      ]
     },
     "execution_count": 64,
     "metadata": {},
     "output_type": "execute_result"
    }
   ],
   "source": [
    "# # Mount Laguna Observatory is not listed in the database; let's define the location\n",
    "latitude = 32.842167 * u.deg\n",
    "longitude = -116.426938 * u.deg\n",
    "elevation = 1860 * u.m\n",
    "location = EarthLocation.from_geodetic(longitude, latitude, elevation)\n",
    "mlo = Observer(location = location, timezone = 'America/Los_Angeles',\n",
    "                             name = \"MLO\", description = \"MLO 1.0-m telescope\")\n",
    "mlo"
   ]
  },
  {
   "cell_type": "code",
   "execution_count": 67,
   "metadata": {},
   "outputs": [
    {
     "data": {
      "text/plain": [
       "<Observer: name='Kitt Peak',\n",
       "    location (lon, lat, el)=(-111.6 deg, 31.963333333333342 deg, 2119.999999997953 m),\n",
       "    timezone=<DstTzInfo 'US/Hawaii' LMT-1 day, 13:29:00 STD>>"
      ]
     },
     "execution_count": 67,
     "metadata": {},
     "output_type": "execute_result"
    }
   ],
   "source": [
    "KittPeak = Observer.at_site(\"Kitt Peak\", timezone=\"US/Hawaii\")\n",
    "KittPeak"
   ]
  },
  {
   "cell_type": "markdown",
   "metadata": {},
   "source": [
    "### Sunset, Sunrise, Midnight"
   ]
  },
  {
   "cell_type": "code",
   "execution_count": 9,
   "metadata": {},
   "outputs": [],
   "source": [
    "# ##### just for testing...REMOVE! #####\n",
    "# now = Time('2020-02-20 21:17:59')"
   ]
  },
  {
   "cell_type": "code",
   "execution_count": 69,
   "metadata": {},
   "outputs": [
    {
     "name": "stdout",
     "output_type": "stream",
     "text": [
      "Sunset at Kitt Peak will be at \n",
      "2020-02-21 01:12:43.009 UTC\n",
      "Astronomical evening twilight at Kitt Peak will be at \n",
      "2020-02-21 02:38:26.764 UTC\n",
      "Midnight at Kitt Peak will be at \n",
      "2020-02-21 07:39:58.843 UTC\n",
      "Astronomical morning twilight at Kitt Peak will be at \n",
      "2020-02-21 12:41:21.302 UTC\n",
      "Sunrise at Kitt Peak will be at \n",
      "2020-02-21 14:06:56.336 UTC\n"
     ]
    }
   ],
   "source": [
    "# Calculating the sunset, midnight and sunrise times for our observatory \n",
    "# What is astronomical twilight?\n",
    "sunset_KittPeak = KittPeak.sun_set_time(now, which='nearest')\n",
    "eve_twil_KittPeak = KittPeak.twilight_evening_astronomical(now, which='nearest')\n",
    "midnight_KittPeak = KittPeak.midnight(now, which='next')\n",
    "morn_twil_KittPeak = KittPeak.twilight_morning_astronomical(now, which='next')\n",
    "sunrise_KittPeak = KittPeak.sun_rise_time(now, which='next')\n",
    "\n",
    "print(\"Sunset at Kitt Peak will be at \\n{0.iso} UTC\".format(sunset_KittPeak))\n",
    "print(\"Astronomical evening twilight at Kitt Peak will be at \\n{0.iso} UTC\".format(eve_twil_KittPeak))\n",
    "print(\"Midnight at Kitt Peak will be at \\n{0.iso} UTC\".format(midnight_KittPeak))\n",
    "print(\"Astronomical morning twilight at Kitt Peak will be at \\n{0.iso} UTC\".format(morn_twil_KittPeak))\n",
    "print(\"Sunrise at Kitt Peak will be at \\n{0.iso} UTC\".format(sunrise_KittPeak))"
   ]
  },
  {
   "cell_type": "markdown",
   "metadata": {},
   "source": [
    "### Exercise \n",
    "Find the effective length of time (in hours) available for optical astronomical observations at MLO tonight"
   ]
  },
  {
   "cell_type": "code",
   "execution_count": 74,
   "metadata": {},
   "outputs": [
    {
     "data": {
      "text/latex": [
       "$10.048483 \\; \\mathrm{h}$"
      ],
      "text/plain": [
       "<Quantity 10.04848298 h>"
      ]
     },
     "execution_count": 74,
     "metadata": {},
     "output_type": "execute_result"
    }
   ],
   "source": [
    "eve_twil_KittPeak = KittPeak.twilight_evening_astronomical(now, which='nearest')\n",
    "morn_twil_KittPeak = KittPeak.twilight_morning_astronomical(now, which='next')\n",
    "(morn_twil_KittPeak - eve_twil_KittPeak).to(u.hour)"
   ]
  },
  {
   "cell_type": "markdown",
   "metadata": {},
   "source": [
    "### Local Sidereal Time (LST)"
   ]
  },
  {
   "cell_type": "code",
   "execution_count": 75,
   "metadata": {},
   "outputs": [
    {
     "name": "stdout",
     "output_type": "stream",
     "text": [
      "LST at KittPeak now is \n",
      "23.86 hourangle\n",
      "LST at KittPeak at local midnight will be \n",
      "10.27 hourangle\n"
     ]
    }
   ],
   "source": [
    "#What is the LST now at KittPeak?\n",
    "#What would the LST be at KittPeak at local midnight?\n",
    "lst_now = KittPeak.local_sidereal_time(now)\n",
    "lst_mid = KittPeak.local_sidereal_time(midnight_KittPeak)\n",
    "print(\"LST at KittPeak now is \\n{0:.2f}\".format(lst_now))\n",
    "print(\"LST at KittPeak at local midnight will be \\n{0:.2f}\".format(lst_mid))"
   ]
  },
  {
   "cell_type": "markdown",
   "metadata": {},
   "source": [
    "### Choosing targets for observations\n",
    "Targets can be defined by name or coordinates.\n"
   ]
  },
  {
   "cell_type": "code",
   "execution_count": 76,
   "metadata": {},
   "outputs": [
    {
     "data": {
      "text/plain": [
       "hms_tuple(h=18.0, m=53.0, s=35.09699999999441)"
      ]
     },
     "execution_count": 76,
     "metadata": {},
     "output_type": "execute_result"
    }
   ],
   "source": [
    "# using coordinates\n",
    "coords = SkyCoord('18h53m35.097s +33d01m44.8831s', frame='icrs') # coordinates of the Ring Nebula (M57) \n",
    "m57 = FixedTarget(name = 'M57', coord=coords)\n",
    "m57.ra.hms"
   ]
  },
  {
   "cell_type": "code",
   "execution_count": 77,
   "metadata": {},
   "outputs": [
    {
     "data": {
      "text/plain": [
       "<SkyCoord (ICRS): (ra, dec) in deg\n",
       "    (185.47886465, 4.47377454)>"
      ]
     },
     "execution_count": 77,
     "metadata": {},
     "output_type": "execute_result"
    }
   ],
   "source": [
    "# by name\n",
    "target = FixedTarget.from_name('m61') # Messier\n",
    "target.coord"
   ]
  },
  {
   "cell_type": "markdown",
   "metadata": {},
   "source": [
    "Check to see if target is \"up\" at evening twilight (assume \"up\" means more than 30 degrees above the horizon). Also check if target is available at midnight and morning twilight."
   ]
  },
  {
   "cell_type": "code",
   "execution_count": 78,
   "metadata": {},
   "outputs": [
    {
     "name": "stdout",
     "output_type": "stream",
     "text": [
      "False\n",
      "True\n",
      "True\n"
     ]
    }
   ],
   "source": [
    "# check if the target is up\n",
    "print(KittPeak.target_is_up(eve_twil_KittPeak, target, horizon=30*u.deg))\n",
    "print(KittPeak.target_is_up(midnight_KittPeak, target, horizon=30*u.deg))\n",
    "print(KittPeak.target_is_up(morn_twil_KittPeak, target, horizon=30*u.deg))"
   ]
  },
  {
   "cell_type": "code",
   "execution_count": 16,
   "metadata": {},
   "outputs": [
    {
     "data": {
      "text/plain": [
       "(-12.141767609945122, 76.94184034002187)"
      ]
     },
     "execution_count": 16,
     "metadata": {},
     "output_type": "execute_result"
    }
   ],
   "source": [
    "# Altitude and Azimuth of target at evening twilight\n",
    "aa = KittPeak.altaz(eve_twil_KittPeak, target)\n",
    "aa.alt.degree, aa.az.degree"
   ]
  },
  {
   "cell_type": "markdown",
   "metadata": {},
   "source": [
    "Determine the time at which the target rises"
   ]
  },
  {
   "cell_type": "code",
   "execution_count": 79,
   "metadata": {},
   "outputs": [
    {
     "name": "stdout",
     "output_type": "stream",
     "text": [
      "2020-02-21 03:36:17.993\n"
     ]
    }
   ],
   "source": [
    "targetrise = KittPeak.target_rise_time(now, target, which = 'next', horizon=0*u.deg)\n",
    "print(targetrise.iso)  #default format is JD"
   ]
  },
  {
   "cell_type": "markdown",
   "metadata": {},
   "source": [
    "### Dealing with moving targets"
   ]
  },
  {
   "cell_type": "code",
   "execution_count": 80,
   "metadata": {},
   "outputs": [
    {
     "data": {
      "text/plain": [
       "<SkyCoord (GCRS: obstime=2020-02-20 21:16:36.786736, obsgeoloc=(0., 0., 0.) m, obsgeovel=(0., 0., 0.) m / s): (ra, dec, distance) in (deg, deg, AU)\n",
       "    (288.99652053, -22.27983006, 5.87607518)>"
      ]
     },
     "execution_count": 80,
     "metadata": {},
     "output_type": "execute_result"
    }
   ],
   "source": [
    "get_body('jupiter', now)"
   ]
  },
  {
   "cell_type": "code",
   "execution_count": 81,
   "metadata": {},
   "outputs": [
    {
     "data": {
      "text/plain": [
       "<SkyCoord (GCRS: obstime=2458900.8194310544, obsgeoloc=(0., 0., 0.) m, obsgeovel=(0., 0., 0.) m / s): (ra, dec, distance) in (deg, deg, km)\n",
       "    (308.90822039, -21.19644005, 397704.08988898)>"
      ]
     },
     "execution_count": 81,
     "metadata": {},
     "output_type": "execute_result"
    }
   ],
   "source": [
    "# get moon position at midnight \n",
    "get_moon(midnight_KittPeak)"
   ]
  },
  {
   "cell_type": "code",
   "execution_count": 82,
   "metadata": {},
   "outputs": [
    {
     "data": {
      "text/plain": [
       "0.05117458788129736"
      ]
     },
     "execution_count": 82,
     "metadata": {},
     "output_type": "execute_result"
    }
   ],
   "source": [
    "# How bright is the moon at midnight?\n",
    "moon_illumination(midnight_KittPeak)"
   ]
  },
  {
   "cell_type": "code",
   "execution_count": 84,
   "metadata": {},
   "outputs": [
    {
     "data": {
      "text/plain": [
       "<SkyCoord (GCRS: obstime=2458900.8194310544, obsgeoloc=(0., 0., 0.) m, obsgeovel=(0., 0., 0.) m / s): (ra, dec, distance) in (deg, deg, AU)\n",
       "    (299.05785134, -20.7627401, 10.82467692)>"
      ]
     },
     "execution_count": 84,
     "metadata": {},
     "output_type": "execute_result"
    }
   ],
   "source": [
    "# We can turn solar system objects into 'pseudo-fixed' targets to plan observations\n",
    "saturn_midnight = FixedTarget(name = 'Saturn', coord = get_body('saturn', midnight_KittPeak))\n",
    "saturn_midnight.coord"
   ]
  },
  {
   "cell_type": "markdown",
   "metadata": {},
   "source": [
    "### Airmass\n",
    "- Ideally, targets should be observed when they have the least airmass. Airmass ranges from 1 (zenith) to ~38 at the horizon.\n",
    "- Airmass is 2.0 at alt=30, 2.9 at alt=20 and 3.9 at alt=15 degrees\n",
    "- As a general rule of thumb, try observing targets when airmass < 2\n",
    "- Let us find the airmass of M57 at midnight at MLO"
   ]
  },
  {
   "cell_type": "code",
   "execution_count": 85,
   "metadata": {},
   "outputs": [
    {
     "data": {
      "text/plain": [
       "True"
      ]
     },
     "execution_count": 85,
     "metadata": {},
     "output_type": "execute_result"
    }
   ],
   "source": [
    "#Is the target up at MLO at midnight?\n",
    "KittPeak.target_is_up(midnight_KittPeak, target)"
   ]
  },
  {
   "cell_type": "code",
   "execution_count": 86,
   "metadata": {},
   "outputs": [
    {
     "data": {
      "text/plain": [
       "<SkyCoord (AltAz: obstime=2458900.8194310544, location=(-1994502.60430614, -5037538.54232911, 3358104.99690298) m, pressure=0.0 hPa, temperature=0.0 deg_C, relative_humidity=0.0, obswl=1.0 micron): (az, alt) in deg\n",
       "    (126.34374841, 49.5030044)>"
      ]
     },
     "execution_count": 86,
     "metadata": {},
     "output_type": "execute_result"
    }
   ],
   "source": [
    "#lets check the alt and az of the target at midnight\n",
    "target_altaz = KittPeak.altaz(midnight_KittPeak, target)\n",
    "target_altaz.altaz"
   ]
  },
  {
   "cell_type": "markdown",
   "metadata": {},
   "source": [
    "That is high over head; ideal for observing."
   ]
  },
  {
   "cell_type": "code",
   "execution_count": 24,
   "metadata": {},
   "outputs": [
    {
     "data": {
      "text/latex": [
       "$1.3150164 \\; \\mathrm{}$"
      ],
      "text/plain": [
       "<Quantity 1.31501639>"
      ]
     },
     "execution_count": 24,
     "metadata": {},
     "output_type": "execute_result"
    }
   ],
   "source": [
    "#Find the airmass\n",
    "target_altaz.secz"
   ]
  },
  {
   "cell_type": "markdown",
   "metadata": {},
   "source": [
    "### Plots to help planning"
   ]
  },
  {
   "cell_type": "markdown",
   "metadata": {},
   "source": [
    "Now we can visualize what we have done so far using some plots"
   ]
  },
  {
   "cell_type": "code",
   "execution_count": 87,
   "metadata": {},
   "outputs": [],
   "source": [
    "import matplotlib.pyplot as plt\n",
    "from astroplan.plots import plot_sky, plot_airmass"
   ]
  },
  {
   "cell_type": "code",
   "execution_count": 88,
   "metadata": {},
   "outputs": [
    {
     "data": {
      "image/png": "[encoded data removed]",
      "text/plain": [
       "<Figure size 432x288 with 1 Axes>"
      ]
     },
     "metadata": {
      "needs_background": "light"
     },
     "output_type": "display_data"
    }
   ],
   "source": [
    "#position of target at midnight\n",
    "plot_sky(target, KittPeak, midnight_KittPeak);"
   ]
  },
  {
   "cell_type": "markdown",
   "metadata": {},
   "source": [
    "Now let us see how the target moves over the course of the night"
   ]
  },
  {
   "cell_type": "code",
   "execution_count": 89,
   "metadata": {},
   "outputs": [
    {
     "data": {
      "image/png": "[encoded data removed]",
      "text/plain": [
       "<Figure size 432x288 with 1 Axes>"
      ]
     },
     "metadata": {
      "needs_background": "light"
     },
     "output_type": "display_data"
    }
   ],
   "source": [
    "t_start = eve_twil_KittPeak\n",
    "t_end = morn_twil_KittPeak\n",
    "t_observe = t_start + (t_end - t_start) * np.linspace(0.0, 1.0, 20)\n",
    "plot_sky(target, KittPeak, t_observe);"
   ]
  },
  {
   "cell_type": "markdown",
   "metadata": {},
   "source": [
    "Now let's plot the airmass as a function of time"
   ]
  },
  {
   "cell_type": "code",
   "execution_count": 91,
   "metadata": {},
   "outputs": [
    {
     "data": {
      "image/png": "[encoded data removed]",
      "text/plain": [
       "<Figure size 432x288 with 1 Axes>"
      ]
     },
     "metadata": {
      "needs_background": "light"
     },
     "output_type": "display_data"
    }
   ],
   "source": [
    "plot_airmass(target, KittPeak, t_observe)\n",
    "plt.grid();"
   ]
  },
  {
   "cell_type": "markdown",
   "metadata": {},
   "source": [
    "The airmass is above 2 for the better part of the night, making M57 a good summer target from MLO.\n",
    "Note that the default airmass limit is 3 in astroplan, corresponding to ~19 degrees elevation."
   ]
  },
  {
   "cell_type": "markdown",
   "metadata": {},
   "source": [
    "### Finder Charts"
   ]
  },
  {
   "cell_type": "code",
   "execution_count": 92,
   "metadata": {},
   "outputs": [],
   "source": [
    "from astroplan.plots import plot_finder_image\n",
    "from astroquery.skyview import SkyView"
   ]
  },
  {
   "cell_type": "markdown",
   "metadata": {},
   "source": [
    "Load an image of the field in which the target lies."
   ]
  },
  {
   "cell_type": "code",
   "execution_count": 93,
   "metadata": {},
   "outputs": [
    {
     "data": {
      "image/png": "[encoded data removed]",
      "text/plain": [
       "<Figure size 432x288 with 1 Axes>"
      ]
     },
     "metadata": {
      "needs_background": "light"
     },
     "output_type": "display_data"
    }
   ],
   "source": [
    "# field of view corresponding to the MLO 1.0-m telesocpe\n",
    "fov = 14*u.arcmin\n",
    "\n",
    "# plot the image\n",
    "plot_finder_image(target, fov_radius=fov);"
   ]
  },
  {
   "cell_type": "markdown",
   "metadata": {
    "collapsed": true
   },
   "source": [
    "Now let's define an array of targets to work with"
   ]
  },
  {
   "cell_type": "code",
   "execution_count": 94,
   "metadata": {},
   "outputs": [
    {
     "data": {
      "text/plain": [
       "[<FixedTarget \"vega\" at SkyCoord (ICRS): (ra, dec) in deg (279.23473479, 38.78368896)>,\n",
       " <FixedTarget \"polaris\" at SkyCoord (ICRS): (ra, dec) in deg (37.95456067, 89.26410897)>,\n",
       " <FixedTarget \"m1\" at SkyCoord (ICRS): (ra, dec) in deg (83.63308333, 22.0145)>,\n",
       " <FixedTarget \"m42\" at SkyCoord (ICRS): (ra, dec) in deg (83.82208333, -5.39111111)>,\n",
       " <FixedTarget \"m55\" at SkyCoord (ICRS): (ra, dec) in deg (294.99879167, -30.96475)>]"
      ]
     },
     "execution_count": 94,
     "metadata": {},
     "output_type": "execute_result"
    }
   ],
   "source": [
    "target_names = ['vega', 'polaris', 'm1', 'm42', 'm55']\n",
    "targets = [FixedTarget.from_name(target) for target in target_names]\n",
    "targets"
   ]
  },
  {
   "cell_type": "markdown",
   "metadata": {},
   "source": [
    "Which of these targets are up now?"
   ]
  },
  {
   "cell_type": "code",
   "execution_count": 95,
   "metadata": {},
   "outputs": [
    {
     "data": {
      "text/plain": [
       "array([ True,  True,  True,  True,  True])"
      ]
     },
     "execution_count": 95,
     "metadata": {},
     "output_type": "execute_result"
    }
   ],
   "source": [
    "KittPeak.target_is_up(now, targets)"
   ]
  },
  {
   "cell_type": "markdown",
   "metadata": {},
   "source": [
    "Which of these targets are up at local midnight?"
   ]
  },
  {
   "cell_type": "code",
   "execution_count": 96,
   "metadata": {},
   "outputs": [
    {
     "data": {
      "text/plain": [
       "array([False,  True,  True,  True, False])"
      ]
     },
     "execution_count": 96,
     "metadata": {},
     "output_type": "execute_result"
    }
   ],
   "source": [
    "KittPeak.target_is_up(midnight_KittPeak, targets)"
   ]
  },
  {
   "cell_type": "markdown",
   "metadata": {},
   "source": [
    "### Exercise\n",
    "Find out the times at which the targets rise to an elevation of 10 degrees. Use target_rise_time. "
   ]
  },
  {
   "cell_type": "code",
   "execution_count": null,
   "metadata": {},
   "outputs": [],
   "source": [
    "targetrise = KittPeak.target_rise_time(now, target, which = 'next', horizon=0*u.deg)\n",
    "print(targetrise.iso)  #default format is JD"
   ]
  },
  {
   "cell_type": "markdown",
   "metadata": {},
   "source": [
    "How high is Vega above the horizion now?"
   ]
  },
  {
   "cell_type": "code",
   "execution_count": null,
   "metadata": {},
   "outputs": [],
   "source": []
  },
  {
   "cell_type": "markdown",
   "metadata": {},
   "source": [
    "Now let's plot the elevation of Vega to see how it varies over the night"
   ]
  },
  {
   "cell_type": "code",
   "execution_count": 36,
   "metadata": {},
   "outputs": [
    {
     "data": {
      "image/png": "[encoded data removed]",
      "text/plain": [
       "<Figure size 432x288 with 1 Axes>"
      ]
     },
     "metadata": {
      "needs_background": "light"
     },
     "output_type": "display_data"
    }
   ],
   "source": [
    "times = (t_start - 0.5 * u.h) + (t_end - t_start + 1 * u.h) * np.linspace(0.0, 1.0, 40)\n",
    "elevations = KittPeak.altaz(times, targets[0]).alt\n",
    "ax = plt.gca()\n",
    "ax.plot_date(times.plot_date, elevations.deg)\n",
    "ax.set(xlabel = 'Time UTC [MM-DD HH]', ylabel = 'Altitude [deg]')\n",
    "plt.setp(ax.get_xticklabels(), rotation=45, ha='right')\n",
    "plt.grid()"
   ]
  },
  {
   "cell_type": "markdown",
   "metadata": {},
   "source": [
    "### Exercise\n",
    "Plot the altitude as a function of time for tonight for each of the targets in a single plot"
   ]
  },
  {
   "cell_type": "code",
   "execution_count": null,
   "metadata": {},
   "outputs": [],
   "source": []
  },
  {
   "cell_type": "markdown",
   "metadata": {},
   "source": [
    "### Exercise\n",
    "Plot sky positions for each target using plot_sky for tonight at MLO in a single plot."
   ]
  },
  {
   "cell_type": "code",
   "execution_count": null,
   "metadata": {},
   "outputs": [],
   "source": []
  },
  {
   "cell_type": "markdown",
   "metadata": {},
   "source": [
    "### Exercise\n",
    "Plot airmass vs time for each target in targets for tonight at MLO."
   ]
  },
  {
   "cell_type": "code",
   "execution_count": null,
   "metadata": {},
   "outputs": [],
   "source": []
  },
  {
   "cell_type": "markdown",
   "metadata": {
    "collapsed": true
   },
   "source": [
    "### Observational Constraints\n",
    "You can set specific constraints that define when a target is \"observable\"\n",
    "- twilight level (e.g., \"Civil\")\n",
    "- airmass\n",
    "- altitude limits"
   ]
  },
  {
   "cell_type": "code",
   "execution_count": 37,
   "metadata": {},
   "outputs": [],
   "source": [
    "from astroplan import (AltitudeConstraint, AirmassConstraint,\n",
    "                       AtNightConstraint, MoonSeparationConstraint)\n",
    "constraints = [AltitudeConstraint(15*u.deg, 84*u.deg),\n",
    "               AirmassConstraint(3), AtNightConstraint.twilight_civil(), MoonSeparationConstraint(min = 10 * u.deg)]\n",
    "t_range = Time([t_start - 0.5 * u.hour, t_end + 0.5 * u.hour])"
   ]
  },
  {
   "cell_type": "code",
   "execution_count": 38,
   "metadata": {},
   "outputs": [
    {
     "name": "stdout",
     "output_type": "stream",
     "text": [
      "[ True  True  True  True False]\n",
      "[False  True False False False]\n"
     ]
    }
   ],
   "source": [
    "from astroplan import is_observable, is_always_observable, months_observable\n",
    "\n",
    "# Are targets ever observable in the time range?\n",
    "ever_observable = is_observable(constraints, KittPeak, targets, time_range=t_range)\n",
    "print(ever_observable)\n",
    "\n",
    "# Are targets always observable in the time range?\n",
    "always_observable = is_always_observable(constraints, KittPeak, targets, time_range=t_range)\n",
    "print(always_observable)"
   ]
  },
  {
   "cell_type": "markdown",
   "metadata": {},
   "source": [
    "The functions is_observable and ever_observable return boolean arrays. Let's print their output in tabular form."
   ]
  },
  {
   "cell_type": "code",
   "execution_count": 39,
   "metadata": {},
   "outputs": [
    {
     "name": "stdout",
     "output_type": "stream",
     "text": [
      "targets ever_observable always_observable\n",
      "------- --------------- -----------------\n",
      "   vega            True             False\n",
      "polaris            True              True\n",
      "     m1            True             False\n",
      "    m42            True             False\n",
      "    m55           False             False\n"
     ]
    }
   ],
   "source": [
    "from astropy.table import Table\n",
    "observability_table = Table()\n",
    "observability_table['targets'] = [target.name for target in targets]\n",
    "observability_table['ever_observable'] = ever_observable\n",
    "observability_table['always_observable'] = always_observable\n",
    "print(observability_table)"
   ]
  },
  {
   "cell_type": "markdown",
   "metadata": {},
   "source": [
    "Or we could do this directly using the observability_table function "
   ]
  },
  {
   "cell_type": "code",
   "execution_count": 40,
   "metadata": {},
   "outputs": [
    {
     "name": "stdout",
     "output_type": "stream",
     "text": [
      "target name ever observable always observable fraction of time observable\n",
      "----------- --------------- ----------------- ---------------------------\n",
      "       vega            True             False         0.30434782608695654\n",
      "    polaris            True              True                         1.0\n",
      "         m1            True             False          0.5652173913043478\n",
      "        m42            True             False          0.4782608695652174\n",
      "        m55           False             False                         0.0\n"
     ]
    }
   ],
   "source": [
    "from astroplan import observability_table\n",
    "table = observability_table(constraints, KittPeak, targets, time_range = t_range)\n",
    "print(table)"
   ]
  },
  {
   "cell_type": "code",
   "execution_count": 41,
   "metadata": {
    "scrolled": true
   },
   "outputs": [
    {
     "data": {
      "text/plain": [
       "[{1, 2, 3, 4, 5, 6, 7, 8, 9, 10, 11, 12},\n",
       " {1, 2, 3, 4, 5, 6, 7, 8, 9, 10, 11, 12},\n",
       " {1, 2, 3, 4, 5, 7, 8, 9, 10, 11, 12},\n",
       " {1, 2, 3, 4, 8, 9, 10, 11, 12},\n",
       " {3, 4, 5, 6, 7, 8, 9, 10, 11}]"
      ]
     },
     "execution_count": 41,
     "metadata": {},
     "output_type": "execute_result"
    }
   ],
   "source": [
    "# During what months are the targets ever observable?\n",
    "months_observable(constraints, KittPeak, targets)"
   ]
  },
  {
   "cell_type": "markdown",
   "metadata": {},
   "source": [
    "### Exercise\n",
    "- Create a list of your favourite targets and store it in a text file with 3 columns - name, RA and Dec. Or you could    use 'targetlists.txt' which already contains a list of targets. \n",
    "- Read the text file, and store the targets as FixedTarget objects.\n",
    "- Get observability tables for all the targets for different moon separation angles (10, 20, 30... degrees)\n",
    "- Plot airmass and sky position as a function of time for tonight for all your targets."
   ]
  },
  {
   "cell_type": "code",
   "execution_count": null,
   "metadata": {},
   "outputs": [],
   "source": []
  }
 ],
 "metadata": {
  "kernelspec": {
   "display_name": "Python [conda env:py34]",
   "language": "python",
   "name": "conda-env-py34-py"
  },
  "language_info": {
   "codemirror_mode": {
    "name": "ipython",
    "version": 3
   },
   "file_extension": ".py",
   "mimetype": "text/x-python",
   "name": "python",
   "nbconvert_exporter": "python",
   "pygments_lexer": "ipython3",
   "version": "3.6.8"
  }
 },
 "nbformat": 4,
 "nbformat_minor": 2
}
