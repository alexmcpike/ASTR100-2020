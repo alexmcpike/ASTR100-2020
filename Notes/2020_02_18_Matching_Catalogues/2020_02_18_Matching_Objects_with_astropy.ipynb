{
 "cells": [
  {
   "cell_type": "code",
   "execution_count": 1,
   "metadata": {},
   "outputs": [],
   "source": [
    "import numpy as np\n",
    "from astropy import units as u\n",
    "from astropy.coordinates import SkyCoord"
   ]
  },
  {
   "cell_type": "code",
   "execution_count": 2,
   "metadata": {},
   "outputs": [
    {
     "data": {
      "text/latex": [
       "$20^\\circ44{}^\\prime46.0121{}^{\\prime\\prime}$"
      ],
      "text/plain": [
       "<Angle 20.74611448 deg>"
      ]
     },
     "execution_count": 2,
     "metadata": {},
     "output_type": "execute_result"
    }
   ],
   "source": [
    "c1 = SkyCoord('5h23m34.5s', '-69d45m22s', frame='icrs')\n",
    "c2 = SkyCoord('0h52m44.8s', '-72d49m43s', frame='fk5')\n",
    "sep = c1.separation(c2)\n",
    "sep"
   ]
  },
  {
   "cell_type": "code",
   "execution_count": 3,
   "metadata": {},
   "outputs": [
    {
     "data": {
      "text/plain": [
       "0.36208800460262563"
      ]
     },
     "execution_count": 3,
     "metadata": {},
     "output_type": "execute_result"
    }
   ],
   "source": [
    "sep.radian"
   ]
  },
  {
   "cell_type": "code",
   "execution_count": 4,
   "metadata": {},
   "outputs": [
    {
     "data": {
      "text/plain": [
       "1.3830742984029318"
      ]
     },
     "execution_count": 4,
     "metadata": {},
     "output_type": "execute_result"
    }
   ],
   "source": [
    "sep.hour"
   ]
  },
  {
   "cell_type": "code",
   "execution_count": 5,
   "metadata": {},
   "outputs": [
    {
     "data": {
      "text/plain": [
       "1244.7668685626384"
      ]
     },
     "execution_count": 5,
     "metadata": {},
     "output_type": "execute_result"
    }
   ],
   "source": [
    " sep.arcminute"
   ]
  },
  {
   "cell_type": "code",
   "execution_count": 6,
   "metadata": {},
   "outputs": [
    {
     "data": {
      "text/plain": [
       "74686.0121137583"
      ]
     },
     "execution_count": 6,
     "metadata": {},
     "output_type": "execute_result"
    }
   ],
   "source": [
    "sep.arcsecond"
   ]
  },
  {
   "cell_type": "markdown",
   "metadata": {},
   "source": [
    "3D Separation Cases"
   ]
  },
  {
   "cell_type": "code",
   "execution_count": 7,
   "metadata": {},
   "outputs": [
    {
     "data": {
      "text/latex": [
       "$28.743988 \\; \\mathrm{kpc}$"
      ],
      "text/plain": [
       "<Distance 28.74398816 kpc>"
      ]
     },
     "execution_count": 7,
     "metadata": {},
     "output_type": "execute_result"
    }
   ],
   "source": [
    "c1 = SkyCoord('5h23m34.5s', '-69d45m22s', distance=70*u.kpc, frame='icrs')\n",
    "c2 = SkyCoord('0h52m44.8s', '-72d49m43s', distance=80*u.kpc, frame='icrs')\n",
    "sep = c1.separation_3d(c2)\n",
    "sep"
   ]
  },
  {
   "cell_type": "markdown",
   "metadata": {},
   "source": [
    "Position angles"
   ]
  },
  {
   "cell_type": "code",
   "execution_count": 8,
   "metadata": {},
   "outputs": [
    {
     "data": {
      "text/latex": [
       "$44^\\circ58{}^\\prime41.4586{}^{\\prime\\prime}$"
      ],
      "text/plain": [
       "<Angle 44.97818294 deg>"
      ]
     },
     "execution_count": 8,
     "metadata": {},
     "output_type": "execute_result"
    }
   ],
   "source": [
    "c1 = SkyCoord(1*u.deg, 1*u.deg, frame='icrs')\n",
    "c2 = SkyCoord(2*u.deg, 2*u.deg, frame='icrs')\n",
    "c1.position_angle(c2).to(u.deg)"
   ]
  },
  {
   "cell_type": "markdown",
   "metadata": {},
   "source": [
    "Offset frames"
   ]
  },
  {
   "cell_type": "code",
   "execution_count": 9,
   "metadata": {},
   "outputs": [],
   "source": [
    "from astropy.coordinates import SkyOffsetFrame, ICRS, SkyCoord"
   ]
  },
  {
   "cell_type": "code",
   "execution_count": 10,
   "metadata": {},
   "outputs": [
    {
     "name": "stdout",
     "output_type": "stream",
     "text": [
      "<ICRS Coordinate: (ra, dec) in deg\n",
      "    (10., 45.)>\n"
     ]
    }
   ],
   "source": [
    "center = ICRS(10*u.deg, 45*u.deg)\n",
    "print(center)"
   ]
  },
  {
   "cell_type": "code",
   "execution_count": 11,
   "metadata": {},
   "outputs": [
    {
     "name": "stdout",
     "output_type": "stream",
     "text": [
      "<ICRS Coordinate: (ra, dec) in deg\n",
      "    (11., 46.)>\n"
     ]
    }
   ],
   "source": [
    "target = ICRS(11*u.deg, 46*u.deg)\n",
    "print(target)"
   ]
  },
  {
   "cell_type": "code",
   "execution_count": 12,
   "metadata": {},
   "outputs": [
    {
     "name": "stdout",
     "output_type": "stream",
     "text": [
      "<SkyOffsetICRS Coordinate (rotation=0.0 deg, origin=<ICRS Coordinate: (ra, dec) in deg\n",
      "    (10., 45.)>): (lon, lat) in deg\n",
      "    (0.69474685, 1.00428706)>\n"
     ]
    }
   ],
   "source": [
    "target_in_center_frame = target.transform_to(SkyOffsetFrame(origin=center))\n",
    "print(target_in_center_frame)"
   ]
  },
  {
   "cell_type": "code",
   "execution_count": 13,
   "metadata": {},
   "outputs": [
    {
     "data": {
      "text/latex": [
       "$0^\\circ41{}^\\prime41.0887{}^{\\prime\\prime}$"
      ],
      "text/plain": [
       "<Longitude 0.69474685 deg>"
      ]
     },
     "execution_count": 13,
     "metadata": {},
     "output_type": "execute_result"
    }
   ],
   "source": [
    "target_in_center_frame.lon"
   ]
  },
  {
   "cell_type": "code",
   "execution_count": 14,
   "metadata": {},
   "outputs": [
    {
     "data": {
      "text/latex": [
       "$1^\\circ00{}^\\prime15.4334{}^{\\prime\\prime}$"
      ],
      "text/plain": [
       "<Latitude 1.00428706 deg>"
      ]
     },
     "execution_count": 14,
     "metadata": {},
     "output_type": "execute_result"
    }
   ],
   "source": [
    "target_in_center_frame.lat"
   ]
  },
  {
   "cell_type": "markdown",
   "metadata": {},
   "source": [
    "Matching to catalogues"
   ]
  },
  {
   "cell_type": "markdown",
   "metadata": {},
   "source": [
    "Here, ```ra1``` and ```dec1``` are the RAs and DECs of the objects you'd like to match.\n",
    "\n",
    "And, ```ra2``` and ```dec2``` are the RAs and DECs of the objects in the catalogue you're comaring to.\n",
    "\n",
    "```c.match_to_catalog_sky()``` is the function that does the heavy lifting for you."
   ]
  },
  {
   "cell_type": "markdown",
   "metadata": {},
   "source": [
    "First, let's query some data from SIMBAD.\n",
    "\n",
    "For more, here's a full list of databases you can query with astropy: https://astroquery.readthedocs.io/en/latest/"
   ]
  },
  {
   "cell_type": "code",
   "execution_count": 15,
   "metadata": {},
   "outputs": [
    {
     "name": "stderr",
     "output_type": "stream",
     "text": [
      "WARNING: AstropyDeprecationWarning: astropy.extern.six will be removed in 4.0, use the six module directly if it is still needed [astropy.extern.six]\n"
     ]
    }
   ],
   "source": [
    "from astroquery.simbad import Simbad\n",
    "from astropy import coordinates\n",
    "\n",
    "# works only for ICRS coordinates:\n",
    "c = coordinates.SkyCoord(\"05h35m17.3s -05d23m28s\", frame='icrs')\n",
    "r = 5 * u.arcminute\n",
    "result_table = Simbad.query_region(c, radius=r)"
   ]
  },
  {
   "cell_type": "code",
   "execution_count": 16,
   "metadata": {},
   "outputs": [
    {
     "data": {
      "text/html": [
       "<i>Table masked=True length=3280</i>\n",
       "<table id=\"table4722530736\" class=\"table-striped table-bordered table-condensed\">\n",
       "<thead><tr><th>MAIN_ID</th><th>RA</th><th>DEC</th><th>RA_PREC</th><th>DEC_PREC</th><th>COO_ERR_MAJA</th><th>COO_ERR_MINA</th><th>COO_ERR_ANGLE</th><th>COO_QUAL</th><th>COO_WAVELENGTH</th><th>COO_BIBCODE</th></tr></thead>\n",
       "<thead><tr><th></th><th>&quot;h:m:s&quot;</th><th>&quot;d:m:s&quot;</th><th></th><th></th><th>mas</th><th>mas</th><th>deg</th><th></th><th></th><th></th></tr></thead>\n",
       "<thead><tr><th>object</th><th>str13</th><th>str13</th><th>int16</th><th>int16</th><th>float32</th><th>float32</th><th>int16</th><th>str1</th><th>str1</th><th>object</th></tr></thead>\n",
       "<tr><td>NAME Ori Region</td><td>05 35 17.30</td><td>-05 23 28.0</td><td>6</td><td>6</td><td>--</td><td>--</td><td>0</td><td>D</td><td>O</td><td></td></tr>\n",
       "<tr><td>M  42</td><td>05 35 17.3</td><td>-05 23 28</td><td>5</td><td>5</td><td>7500.000</td><td>7500.000</td><td>90</td><td>D</td><td></td><td>1981MNRAS.194..693L</td></tr>\n",
       "<tr><td>[OW94] 172-327</td><td>05 35 17.2210</td><td>-05 23 26.542</td><td>9</td><td>9</td><td>--</td><td>--</td><td>0</td><td>C</td><td>R</td><td>2016ApJ...822...93F</td></tr>\n",
       "<tr><td>DOH  7 175-328</td><td>05 35 17.5</td><td>-05 23 28</td><td>5</td><td>5</td><td>--</td><td>--</td><td>0</td><td>D</td><td></td><td>2004AJ....127.3456D</td></tr>\n",
       "<tr><td>MAX 126</td><td>05 35 17.11</td><td>-05 23 29.3</td><td>6</td><td>6</td><td>--</td><td>--</td><td>0</td><td>D</td><td>I</td><td>2005AJ....129.1534R</td></tr>\n",
       "<tr><td>DOH  7 171-327</td><td>05 35 17.1</td><td>-05 23 27</td><td>5</td><td>5</td><td>--</td><td>--</td><td>0</td><td>D</td><td></td><td>2004AJ....127.3456D</td></tr>\n",
       "<tr><td>MAX 125</td><td>05 35 17.11</td><td>-05 23 26.6</td><td>6</td><td>6</td><td>--</td><td>--</td><td>0</td><td>D</td><td>I</td><td>2005AJ....129.1534R</td></tr>\n",
       "<tr><td>[OW94] 171-326</td><td>05 35 17.1</td><td>-05 23 26</td><td>5</td><td>5</td><td>--</td><td>--</td><td>0</td><td>D</td><td></td><td>2004AJ....127.3456D</td></tr>\n",
       "<tr><td>DOH  7 171-325</td><td>05 35 17.1</td><td>-05 23 25</td><td>5</td><td>5</td><td>--</td><td>--</td><td>0</td><td>D</td><td></td><td>2004AJ....127.3456D</td></tr>\n",
       "<tr><td>...</td><td>...</td><td>...</td><td>...</td><td>...</td><td>...</td><td>...</td><td>...</td><td>...</td><td>...</td><td>...</td></tr>\n",
       "<tr><td>V* V2323 Ori</td><td>05 35 18.1040</td><td>-05 28 25.097</td><td>14</td><td>14</td><td>0.199</td><td>0.196</td><td>90</td><td>A</td><td>O</td><td>2018yCat.1345....0G</td></tr>\n",
       "<tr><td>V* V2222 Ori</td><td>05 35 12.033</td><td>-05 18 41.08</td><td>7</td><td>7</td><td>110.000</td><td>110.000</td><td>90</td><td>C</td><td>I</td><td>2003yCat.2246....0C</td></tr>\n",
       "<tr><td>COUP J053503.6-052705</td><td>05 35 03.673</td><td>-05 27 05.25</td><td>7</td><td>7</td><td>--</td><td>--</td><td>0</td><td>D</td><td></td><td>2005ApJS..160..319G</td></tr>\n",
       "<tr><td>2MASS J05353573-0525256</td><td>05 35 35.732</td><td>-05 25 25.65</td><td>7</td><td>7</td><td>220.000</td><td>210.000</td><td>5</td><td>C</td><td>I</td><td>2003yCat.2246....0C</td></tr>\n",
       "<tr><td>HH 878</td><td>05 35 01.7</td><td>-05 26 36</td><td>5</td><td>5</td><td>--</td><td>--</td><td>0</td><td>D</td><td></td><td>2006AJ....131..473B</td></tr>\n",
       "<tr><td>CXOONC J053457.7-052223</td><td>05 34 57.720</td><td>-05 22 23.88</td><td>7</td><td>7</td><td>--</td><td>--</td><td>0</td><td>D</td><td></td><td>2005ApJS..160..319G</td></tr>\n",
       "<tr><td>[TUK93]  28</td><td>05 34 58.4</td><td>-05 21 48</td><td>5</td><td>5</td><td>--</td><td>--</td><td>0</td><td>D</td><td></td><td></td></tr>\n",
       "<tr><td>TKK   486</td><td>05 35 14.82</td><td>-05 18 30.6</td><td>6</td><td>6</td><td>--</td><td>--</td><td>0</td><td>D</td><td></td><td>2003AJ....125.1537T</td></tr>\n",
       "<tr><td>2MASS J05353130-0519533</td><td>05 35 31.31</td><td>-05 19 53.3</td><td>6</td><td>6</td><td>80.000</td><td>80.000</td><td>90</td><td>C</td><td>I</td><td>2003yCat.2246....0C</td></tr>\n",
       "<tr><td>V* V2114 Ori</td><td>05 35 01.6680</td><td>-05 26 36.302</td><td>14</td><td>14</td><td>0.309</td><td>0.285</td><td>90</td><td>A</td><td>O</td><td>2018yCat.1345....0G</td></tr>\n",
       "</table>"
      ],
      "text/plain": [
       "<Table masked=True length=3280>\n",
       "        MAIN_ID               RA      ... COO_WAVELENGTH     COO_BIBCODE    \n",
       "                           \"h:m:s\"    ...                                   \n",
       "         object             str13     ...      str1             object      \n",
       "----------------------- ------------- ... -------------- -------------------\n",
       "        NAME Ori Region   05 35 17.30 ...              O                    \n",
       "                  M  42    05 35 17.3 ...                1981MNRAS.194..693L\n",
       "         [OW94] 172-327 05 35 17.2210 ...              R 2016ApJ...822...93F\n",
       "         DOH  7 175-328    05 35 17.5 ...                2004AJ....127.3456D\n",
       "                MAX 126   05 35 17.11 ...              I 2005AJ....129.1534R\n",
       "         DOH  7 171-327    05 35 17.1 ...                2004AJ....127.3456D\n",
       "                MAX 125   05 35 17.11 ...              I 2005AJ....129.1534R\n",
       "         [OW94] 171-326    05 35 17.1 ...                2004AJ....127.3456D\n",
       "         DOH  7 171-325    05 35 17.1 ...                2004AJ....127.3456D\n",
       "                    ...           ... ...            ...                 ...\n",
       "           V* V2323 Ori 05 35 18.1040 ...              O 2018yCat.1345....0G\n",
       "           V* V2222 Ori  05 35 12.033 ...              I 2003yCat.2246....0C\n",
       "  COUP J053503.6-052705  05 35 03.673 ...                2005ApJS..160..319G\n",
       "2MASS J05353573-0525256  05 35 35.732 ...              I 2003yCat.2246....0C\n",
       "                 HH 878    05 35 01.7 ...                2006AJ....131..473B\n",
       "CXOONC J053457.7-052223  05 34 57.720 ...                2005ApJS..160..319G\n",
       "            [TUK93]  28    05 34 58.4 ...                                   \n",
       "              TKK   486   05 35 14.82 ...                2003AJ....125.1537T\n",
       "2MASS J05353130-0519533   05 35 31.31 ...              I 2003yCat.2246....0C\n",
       "           V* V2114 Ori 05 35 01.6680 ...              O 2018yCat.1345....0G"
      ]
     },
     "execution_count": 16,
     "metadata": {},
     "output_type": "execute_result"
    }
   ],
   "source": [
    "result_table\n",
    "# result_table.pprint(show_unit=True, max_width=80, max_lines=5)"
   ]
  },
  {
   "cell_type": "markdown",
   "metadata": {},
   "source": [
    "Setting up our objects that we'd like to match to:"
   ]
  },
  {
   "cell_type": "code",
   "execution_count": 17,
   "metadata": {},
   "outputs": [
    {
     "name": "stdout",
     "output_type": "stream",
     "text": [
      "<SkyCoord (ICRS): (ra, dec) in deg\n",
      "    (83.82208333, -5.39111111)>\n"
     ]
    }
   ],
   "source": [
    "ra1 = \"05h35m17.3s\"\n",
    "dec1 = \"-05d23m28s\"\n",
    "\n",
    "c = SkyCoord(ra=ra1, dec=dec1, unit=(u.deg, u.hourangle))\n",
    "print(c)"
   ]
  },
  {
   "cell_type": "markdown",
   "metadata": {},
   "source": [
    "Setting up the catalouge we're comparing to:"
   ]
  },
  {
   "cell_type": "code",
   "execution_count": 18,
   "metadata": {},
   "outputs": [
    {
     "name": "stdout",
     "output_type": "stream",
     "text": [
      "3280\n"
     ]
    }
   ],
   "source": [
    "ra2 = result_table['RA']\n",
    "dec2 = result_table['DEC']\n",
    "\n",
    "catalog = SkyCoord(ra2, dec2, unit=(u.deg, u.hourangle))\n",
    "print(len(catalog))"
   ]
  },
  {
   "cell_type": "markdown",
   "metadata": {},
   "source": [
    "Here's a taste of our catalogue:"
   ]
  },
  {
   "cell_type": "code",
   "execution_count": 19,
   "metadata": {},
   "outputs": [
    {
     "data": {
      "text/plain": [
       "<Figure size 1000x500 with 1 Axes>"
      ]
     },
     "metadata": {},
     "output_type": "display_data"
    }
   ],
   "source": [
    "import matplotlib.pylab as plt\n",
    "plt.figure(figsize=(10,5))\n",
    "plt.scatter(catalog.ra, catalog.dec, marker='+', alpha=0.2)\n",
    "plt.show()"
   ]
  },
  {
   "cell_type": "markdown",
   "metadata": {},
   "source": [
    "Now to do the matching:"
   ]
  },
  {
   "cell_type": "code",
   "execution_count": 20,
   "metadata": {},
   "outputs": [],
   "source": [
    "idx, d2d, d3d = c.match_to_catalog_sky(catalog)"
   ]
  },
  {
   "cell_type": "markdown",
   "metadata": {},
   "source": [
    "Now ```idx``` are indices into catalog that are the closest objects to each of the coordinates in ```c```, ```d2d``` are the on-sky distances between them, and ```d3d``` are the 3-dimensional distances."
   ]
  },
  {
   "cell_type": "code",
   "execution_count": 21,
   "metadata": {},
   "outputs": [
    {
     "data": {
      "text/plain": [
       "(array(3277), <Angle [82.59001341] deg>, <Quantity 1.31987239>)"
      ]
     },
     "execution_count": 21,
     "metadata": {},
     "output_type": "execute_result"
    }
   ],
   "source": [
    "idx, d2d, d3d"
   ]
  },
  {
   "cell_type": "markdown",
   "metadata": {},
   "source": [
    "So where is our match?"
   ]
  },
  {
   "cell_type": "code",
   "execution_count": 22,
   "metadata": {},
   "outputs": [
    {
     "data": {
      "text/plain": [
       "<SkyCoord (ICRS): (ra, dec) in deg\n",
       "    (5.58745, -79.6275)>"
      ]
     },
     "execution_count": 22,
     "metadata": {},
     "output_type": "execute_result"
    }
   ],
   "source": [
    "catalog[idx]"
   ]
  },
  {
   "cell_type": "code",
   "execution_count": 23,
   "metadata": {},
   "outputs": [
    {
     "data": {
      "text/html": [
       "<i>Row index=3277 masked=True</i>\n",
       "<table id=\"table4722530736\">\n",
       "<thead><tr><th>MAIN_ID</th><th>RA</th><th>DEC</th><th>RA_PREC</th><th>DEC_PREC</th><th>COO_ERR_MAJA</th><th>COO_ERR_MINA</th><th>COO_ERR_ANGLE</th><th>COO_QUAL</th><th>COO_WAVELENGTH</th><th>COO_BIBCODE</th></tr></thead>\n",
       "<thead><tr><th></th><th>&quot;h:m:s&quot;</th><th>&quot;d:m:s&quot;</th><th></th><th></th><th>mas</th><th>mas</th><th>deg</th><th></th><th></th><th></th></tr></thead>\n",
       "<thead><tr><th>object</th><th>str13</th><th>str13</th><th>int16</th><th>int16</th><th>float32</th><th>float32</th><th>int16</th><th>str1</th><th>str1</th><th>object</th></tr></thead>\n",
       "<tr><td>TKK   486</td><td>05 35 14.82</td><td>-05 18 30.6</td><td>6</td><td>6</td><td>--</td><td>--</td><td>0</td><td>D</td><td></td><td>2003AJ....125.1537T</td></tr>\n",
       "</table>"
      ],
      "text/plain": [
       "<Row index=3277 masked=True>\n",
       " MAIN_ID       RA         DEC     RA_PREC DEC_PREC COO_ERR_MAJA COO_ERR_MINA COO_ERR_ANGLE COO_QUAL COO_WAVELENGTH     COO_BIBCODE    \n",
       "            \"h:m:s\"     \"d:m:s\"                        mas          mas           deg                                                 \n",
       "  object     str13       str13     int16   int16     float32      float32        int16       str1        str1             object      \n",
       "--------- ----------- ----------- ------- -------- ------------ ------------ ------------- -------- -------------- -------------------\n",
       "TKK   486 05 35 14.82 -05 18 30.6       6        6           --           --             0        D                2003AJ....125.1537T"
      ]
     },
     "execution_count": 23,
     "metadata": {},
     "output_type": "execute_result"
    }
   ],
   "source": [
    "result_table[idx]\n",
    "\n",
    "# ra1 = \"05h35m17.3s\"\n",
    "# dec1 = \"-05d23m28s\""
   ]
  }
 ],
 "metadata": {
  "kernelspec": {
   "display_name": "Python [conda env:py34]",
   "language": "python",
   "name": "conda-env-py34-py"
  },
  "language_info": {
   "codemirror_mode": {
    "name": "ipython",
    "version": 3
   },
   "file_extension": ".py",
   "mimetype": "text/x-python",
   "name": "python",
   "nbconvert_exporter": "python",
   "pygments_lexer": "ipython3",
   "version": "3.6.8"
  }
 },
 "nbformat": 4,
 "nbformat_minor": 2
}
