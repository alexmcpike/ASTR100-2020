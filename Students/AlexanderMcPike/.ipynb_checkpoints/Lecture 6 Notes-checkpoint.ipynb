{
 "cells": [
  {
   "cell_type": "markdown",
   "metadata": {},
   "source": [
    "# Project Notes\n",
    "\n",
    "### Q1: Is it up tonight? Now?\n",
    "\n",
    "#### Need to know:\n",
    "1. Sunset / Sunrise times\n",
    "2. Astronomical Twilight Times (see timekeeping website)\n",
    "3. What is the sidereal time at midnight? (Star time- time determined by the stars)\n",
    "        March 21/22 Sun at RA = 0hrs (Vernal Equinox)// ST=12h Local Solar Midnight\n",
    "        \n",
    "### Q2: Is it bright enough?\n",
    "\n",
    "#### Need to know:\n",
    "6-in telescope, 6th mag gives 10^6 photons/s (6's Rule of thumb for all wavelengths)\n",
    "1.2m = 48in = 8x6in = 6.4x10^7 photons/s @6th mag, 11th mag = 6000 ph/s 10s exposure, 60,000 photons\n",
    "Mag = -2.5log10(f/fo)\n",
    "\n",
    "Background brightness in: Mag/sq arcsec\n",
    "Signal to noise* (Target depends on what you're doing: 5 or 7 if you're just trying to see if something's there, if you're look at a variable object that varies at the 10% level so your signal to noise better be at least 50, planet transit in front of star s/n should be a LOT)\n",
    "\n",
    "Exposures should be shorter than 10-20m \n",
    "\n",
    "\"5th mag star\"\n",
    "\n",
    " \n",
    "##### Image Case\n",
    "1. Sky Background (Moon, Light Pollution, Air Glow)\n",
    "2. Atmospheric Absorption (Aerosols, Dust, Airmass) *this is the fact that we're losing light\n",
    "3. Aperture of the telescope, Exposure time\n",
    "4. CCD, Quantum Efficiency *QE*, filter (*grizy: green, red, infrared.. BVRI: blue, visible (yellow green), red, IR*), etc.\n",
    "5. PSF (point spread function)\n"
   ]
  },
  {
   "cell_type": "code",
   "execution_count": null,
   "metadata": {},
   "outputs": [],
   "source": []
  }
 ],
 "metadata": {
  "kernelspec": {
   "display_name": "Python 3",
   "language": "python",
   "name": "python3"
  },
  "language_info": {
   "codemirror_mode": {
    "name": "ipython",
    "version": 3
   },
   "file_extension": ".py",
   "mimetype": "text/x-python",
   "name": "python",
   "nbconvert_exporter": "python",
   "pygments_lexer": "ipython3",
   "version": "3.7.4"
  }
 },
 "nbformat": 4,
 "nbformat_minor": 2
}
