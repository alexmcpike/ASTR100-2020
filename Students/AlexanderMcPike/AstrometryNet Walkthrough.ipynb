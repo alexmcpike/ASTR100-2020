{
 "cells": [
  {
   "cell_type": "code",
   "execution_count": 1,
   "metadata": {},
   "outputs": [
    {
     "name": "stderr",
     "output_type": "stream",
     "text": [
      "WARNING: Astrometry.net API key not found in configuration file [astroquery.astrometry_net.core]\n",
      "WARNING: You need to manually edit the configuration file and add it [astroquery.astrometry_net.core]\n",
      "WARNING: You may also register it for this session with AstrometryNet.key = 'XXXXXXXX' [astroquery.astrometry_net.core]\n"
     ]
    }
   ],
   "source": [
    "from astroquery.astrometry_net import AstrometryNet\n"
   ]
  },
  {
   "cell_type": "code",
   "execution_count": 2,
   "metadata": {},
   "outputs": [
    {
     "name": "stderr",
     "output_type": "stream",
     "text": [
      "WARNING: Astrometry.net API key not found in configuration file [astroquery.astrometry_net.core]\n",
      "WARNING: You need to manually edit the configuration file and add it [astroquery.astrometry_net.core]\n",
      "WARNING: You may also register it for this session with AstrometryNet.key = 'XXXXXXXX' [astroquery.astrometry_net.core]\n"
     ]
    }
   ],
   "source": [
    "ast = AstrometryNet()\n",
    "ast.api_key = \"zacpzvkobvonqabc\""
   ]
  },
  {
   "cell_type": "code",
   "execution_count": 4,
   "metadata": {},
   "outputs": [
    {
     "name": "stdout",
     "output_type": "stream",
     "text": [
      "INFO: first HDU with data is extension 1. [astropy.nddata.ccddata]\n",
      "Determining background stats\n",
      "Finding sources\n"
     ]
    },
    {
     "name": "stderr",
     "output_type": "stream",
     "text": [
      "WARNING: VerifyWarning: Verification reported errors: [astropy.io.fits.verify]\n",
      "WARNING: VerifyWarning: Card keyword 'Comment' is not upper case.  Fixed 'COMMENT' card to meet the FITS standard. [astropy.io.fits.verify]\n",
      "WARNING: VerifyWarning: Note: astropy.io.fits uses zero-based indexing.\n",
      " [astropy.io.fits.verify]\n",
      "WARNING: FITSFixedWarning: RADECSYS= 'FK5 ' \n",
      "the RADECSYS keyword is deprecated, use RADESYSa. [astropy.wcs.wcs]\n",
      "WARNING: FITSFixedWarning: EPOCH = '2000 ' / EPOCH \n",
      "a floating-point value was expected. [astropy.wcs.wcs]\n",
      "WARNING: AstropyDeprecationWarning: \"iters\" was deprecated in version 3.1 and will be removed in a future version. Use argument \"maxiters\" instead. [astroquery.astrometry_net.core]\n"
     ]
    },
    {
     "name": "stdout",
     "output_type": "stream",
     "text": [
      "Found 202 sources\n",
      " id     xcentroid      ...        flux                 mag         \n",
      "--- ------------------ ... ------------------ ---------------------\n",
      "102  98.02230385815945 ...   885.091656713462    -7.367470617263592\n",
      " 12  8.570524165180974 ...  754.5607444167014    -7.194235518837927\n",
      " 10 208.19737959080086 ... 451.82596775948883    -6.637427968688435\n",
      " 92  467.4219134760698 ... 294.93154340437394   -6.1743030588283085\n",
      " 67   8.38332717685901 ... 221.41996900124892   -5.8630419640755225\n",
      " 64  80.17505540459052 ...  190.0266347111707    -5.697036193137284\n",
      "  2  795.7155010573726 ...  175.5461048406829   -5.6109779935754105\n",
      "168  491.5112779147401 ...   170.099102608013   -5.5767550560270704\n",
      "174   546.857915337268 ... 164.81284320337818   -5.5424776287641855\n",
      "110 216.19680271071962 ... 163.16058531538357    -5.531538136543773\n",
      "...                ... ...                ...                   ...\n",
      "100  776.2189029644188 ... 1.2518072669858649  -0.24384367097237655\n",
      " 61  967.9816369571122 ... 1.2236387470250696  -0.21913305161019928\n",
      " 49  125.0619188047995 ... 1.1926364693812337  -0.19127021353232007\n",
      "155  716.1432064284138 ... 1.1822133342189498  -0.18173963365180432\n",
      "123  592.1691708912696 ... 1.1763230494629968  -0.17631651721709776\n",
      "199 424.02282631181373 ... 1.1732338837063043  -0.17346149294435137\n",
      " 73  356.6049486264068 ... 1.1644244131693842   -0.1652782555583001\n",
      "177  987.0687787147665 ... 1.0952466693067913  -0.09877985285908443\n",
      " 27 51.821897127514035 ... 1.0868014744801764  -0.09037554740054082\n",
      " 31 19.456596942832906 ...  1.042063304325403 -0.044735256823611486\n",
      "  6 285.56293126352574 ... 1.0108575318019322 -0.011724878314296281\n",
      "Length = 202 rows\n",
      "Solving.................................................................................."
     ]
    }
   ],
   "source": [
    "filename = \"/Users/alex/Desktop/A100Observations/0448.M67.fits\"\n",
    "\n",
    "wcs_header = ast.solve_from_image(filename)\n"
   ]
  },
  {
   "cell_type": "code",
   "execution_count": null,
   "metadata": {},
   "outputs": [],
   "source": []
  }
 ],
 "metadata": {
  "kernelspec": {
   "display_name": "Python 3",
   "language": "python",
   "name": "python3"
  },
  "language_info": {
   "codemirror_mode": {
    "name": "ipython",
    "version": 3
   },
   "file_extension": ".py",
   "mimetype": "text/x-python",
   "name": "python",
   "nbconvert_exporter": "python",
   "pygments_lexer": "ipython3",
   "version": "3.7.4"
  }
 },
 "nbformat": 4,
 "nbformat_minor": 2
}
